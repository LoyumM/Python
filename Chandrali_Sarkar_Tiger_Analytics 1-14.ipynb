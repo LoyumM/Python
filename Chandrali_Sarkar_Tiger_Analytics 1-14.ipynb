{
 "cells": [
  {
   "cell_type": "markdown",
   "metadata": {},
   "source": [
    "********DAY 1********\n",
    "\n",
    "Python coding question:\n",
    "\n",
    "Given a list of integers, return True if the array contains a 3 next to a 3 somewhere.\n",
    "\n",
    "Desired output:\n",
    "\n",
    "has_33([1, 3, 3]) → True\n",
    "\n",
    "has_33([1, 3, 1, 3]) → False\n",
    "\n",
    "has_33([3, 1, 3]) → False\n",
    "\n",
    "has_33([3,3,1]) → True"
   ]
  },
  {
   "cell_type": "code",
   "execution_count": null,
   "metadata": {},
   "outputs": [],
   "source": [
    "def has_33(num):\n",
    "    for i in range(len(num)-1):\n",
    "        if num[i] == 3 and num[i+1] == 3:\n",
    "            return True\n",
    "    return False"
   ]
  },
  {
   "cell_type": "code",
   "execution_count": null,
   "metadata": {},
   "outputs": [],
   "source": [
    "num=[1,3,3,4,6,7,5]\n",
    "print(has_33(num))"
   ]
  },
  {
   "cell_type": "markdown",
   "metadata": {},
   "source": [
    "********DAY 2********\n",
    "\n",
    "Python coding question:\n",
    "\n",
    "LESSER OF TWO EVENS: Write a function that returns the lesser of two given numbers if both numbers are even, but returns the greater if one or both numbers are odd.\n",
    "\n",
    "Desired output:\n",
    "\n",
    "lesser_of_two_evens(2,4)---> 2\n",
    "\n",
    "lesser_of_two_evens(2,3)---> 3\n",
    "\n",
    "lesser_of_two_evens(3,4)---> 4"
   ]
  },
  {
   "cell_type": "code",
   "execution_count": null,
   "metadata": {},
   "outputs": [],
   "source": [
    "def lesser_of_two_even(a,b):\n",
    "    return min(a,b) if(a+b)%2 == 0 else max(a,b)"
   ]
  },
  {
   "cell_type": "code",
   "execution_count": null,
   "metadata": {},
   "outputs": [],
   "source": [
    "print(lesser_of_two_even(1,4))\n",
    "print(lesser_of_two_even(10,12))"
   ]
  },
  {
   "cell_type": "markdown",
   "metadata": {},
   "source": [
    "********DAY 3********\n",
    "\n",
    "Python coding question:\n",
    "\n",
    "Write a Python function that takes a list and returns a new list with unique elements of the first list.\n",
    "\n",
    "Sample List : [1,1,1,1,2,2,3,3,3,3,4,5]\n",
    "\n",
    "Unique List : [1, 2, 3, 4, 5]"
   ]
  },
  {
   "cell_type": "code",
   "execution_count": null,
   "metadata": {},
   "outputs": [],
   "source": [
    "def unique_list(list):\n",
    "    x = []\n",
    "    for a in list:\n",
    "        if a not in x:\n",
    "            x.append(a)\n",
    "    return x"
   ]
  },
  {
   "cell_type": "code",
   "execution_count": null,
   "metadata": {},
   "outputs": [],
   "source": [
    "sample_list = [1,1,1,1,2,2,3,3,3,3,4,5]\n",
    "unique_list(sample_list)"
   ]
  },
  {
   "cell_type": "code",
   "execution_count": null,
   "metadata": {},
   "outputs": [],
   "source": [
    "sample_list = [1,1,1,1,2,2,3,3,3,3,4,5]\n",
    "unique_list = list(set(sample_list))#option 1\n",
    "unique_list_1 = list(dict.fromkeys(sample_list))#option 2\n",
    "print(unique_list)\n",
    "print(unique_list_1)"
   ]
  },
  {
   "cell_type": "code",
   "execution_count": 6,
   "metadata": {},
   "outputs": [
    {
     "data": {
      "text/plain": [
       "[1, 2, 3, 4, 5]"
      ]
     },
     "execution_count": 6,
     "metadata": {},
     "output_type": "execute_result"
    }
   ],
   "source": [
    "def unique_list(lst):\n",
    "    new_lst = list(dict.fromkeys(lst))\n",
    "    return new_lst\n",
    "\n",
    "sample_list = [1,1,1,1,2,2,3,3,3,3,4,5]\n",
    "unique_list(sample_list)"
   ]
  },
  {
   "cell_type": "code",
   "execution_count": null,
   "metadata": {},
   "outputs": [],
   "source": [
    "# List Comprehension\n",
    "# ------------------------\n",
    "# List comprehension offers a shorter syntax when you want to create a new list based on the values of an existing list.\n",
    "# Example:\n",
    "# Based on a list of fruits, you want a new list, containing only the fruits with the letter \"a\" in the name.\n",
    "\n",
    "# Without list comprehension you will have to write a for statement with a conditional test inside:\n",
    "fruits = [\"apple\", \"banana\", \"cherry\", \"kiwi\", \"mango\"]\n",
    "newlist = []\n",
    "\n",
    "for x in fruits:\n",
    "  if \"a\" in x:\n",
    "    newlist.append(x)\n",
    "\n",
    "print(newlist)\n",
    "###############################################\n",
    "# With list comprehension you can do all that with only one line of code:\n",
    "# Example\n",
    "# ----------------------------------------------------------\n",
    "fruits = [\"apple\", \"banana\", \"cherry\", \"kiwi\", \"mango\"]\n",
    "\n",
    "newlist1 = [x for x in fruits if \"a\" in x]\n",
    "\n",
    "print(newlist1)"
   ]
  },
  {
   "cell_type": "markdown",
   "metadata": {},
   "source": [
    "********DAY 4********\n",
    "\n",
    "Python coding question:\n",
    "\n",
    "Write a Python function to check whether a string is pangram or not. (Assume the string passed in does not have any punctuation)\n",
    "\n",
    "Note:A pangram is a sentence containing every letter of the alphabet.\n",
    "\n",
    "Example:\n",
    "A quick brown fox jumps over the lazy dog.\n"
   ]
  },
  {
   "cell_type": "code",
   "execution_count": null,
   "metadata": {},
   "outputs": [],
   "source": [
    "import string\n",
    "alphabet = set(string.ascii_lowercase)\n",
    "\n",
    "str1 = 'A quick brown fox jumps over the lazy dog'\n",
    "str1 = set((str1.replace(\" \",\"\")).lower()) #removing spaces, changing into lowercase and converting to set\n",
    "\n",
    "if alphabet == str1:\n",
    "    print(\"Panagram\")\n",
    "else:\n",
    "    print(\"Not panagram\")"
   ]
  },
  {
   "cell_type": "markdown",
   "metadata": {},
   "source": [
    "********DAY 5********\n",
    "\n",
    "Python coding question:\n",
    "\n",
    "Write a function takes a two-word string and returns True if both words begin with same letter\n",
    "\n",
    "animal_crackers('Crazy Chocolate') --> True\n",
    "\n",
    "animal_crackers('Lazy Dog') --> False"
   ]
  },
  {
   "cell_type": "code",
   "execution_count": null,
   "metadata": {},
   "outputs": [],
   "source": [
    "def check(word):\n",
    "    words = word.split(\" \")\n",
    "    if words[0][0] == words[1][0]:\n",
    "        print(\"First alphabet match\")\n",
    "    else:\n",
    "        print(\"First alphabet doesn't match\")\n",
    "\n",
    "check(\"Crazy Chocolate\")    "
   ]
  },
  {
   "cell_type": "markdown",
   "metadata": {},
   "source": [
    "********DAY 6********\n",
    "\n",
    "Python coding question:\n",
    "\n",
    "\n",
    "Write a function that takes in a list of integers and returns True if it contains 007 in order\n",
    "\n",
    " spy_game([1,2,4,0,0,7,5]) --> True\n",
    "\n",
    " spy_game([1,0,2,4,0,5,7]) --> True\n",
    "\n",
    " spy_game([1,7,2,0,4,5,0]) --> False"
   ]
  },
  {
   "cell_type": "code",
   "execution_count": null,
   "metadata": {},
   "outputs": [],
   "source": [
    "spy_game = [1,2,4,0,0,7,5]\n",
    "spygame_str = [str(int) for int in spy_game]\n",
    "spygame_str = \"\".join(spygame_str)\n",
    "if \"007\" in spygame_str:\n",
    "    print (\"True\")\n",
    "else:\n",
    "    print(\"False\")"
   ]
  },
  {
   "cell_type": "code",
   "execution_count": null,
   "metadata": {},
   "outputs": [],
   "source": [
    "def find_bond(int_list):\n",
    "    str_list = [str(int) for int in int_list]\n",
    "    str_join = ''.join(str_list)\n",
    "    return True if \"007\" in str_join else False"
   ]
  },
  {
   "cell_type": "code",
   "execution_count": null,
   "metadata": {},
   "outputs": [],
   "source": [
    "spy_game = [1,2,4,0,0,7,5]\n",
    "find_bond(spy_game)"
   ]
  },
  {
   "cell_type": "markdown",
   "metadata": {},
   "source": [
    "********DAY 7********\n",
    "\n",
    "Python coding question:\n",
    "\n",
    "Define a function called myfunc that takes in a string, and returns a matching string where every even letter is uppercase, and every odd letter is lowercase. \n",
    "\n",
    "Desired output:\n",
    "myfunc('aNiMaL')-->True"
   ]
  },
  {
   "cell_type": "code",
   "execution_count": null,
   "metadata": {},
   "outputs": [],
   "source": [
    "#option 1\n",
    "def myfunc(word):\n",
    "    mylist = []\n",
    "    for i in range(len(word)):\n",
    "        if i%2 == 1:\n",
    "            mylist.append(word[i].upper())\n",
    "        elif i%2 == 0:\n",
    "            mylist.append(word[i].lower())\n",
    "    mystr = ''.join(mylist)\n",
    "    if word == mystr:\n",
    "        return True"
   ]
  },
  {
   "cell_type": "code",
   "execution_count": null,
   "metadata": {},
   "outputs": [],
   "source": [
    "word1 = 'aNiMaL'\n",
    "print(myfunc(word1))"
   ]
  },
  {
   "cell_type": "code",
   "execution_count": null,
   "metadata": {},
   "outputs": [],
   "source": [
    "#option2:\n",
    "def myfunc1(s):\n",
    " return s[::2].islower() and s[1::2].isupper()\n",
    "\n",
    "str = 'animal'\n",
    "print(myfunc1(str))"
   ]
  },
  {
   "cell_type": "markdown",
   "metadata": {},
   "source": [
    "********DAY 8********\n",
    "\n",
    "Python coding question:\n",
    "\n",
    "Write a Python function that accepts a string and calculates the number of upper case letters and lower case letters.\n",
    "\n",
    "Sample String : 'Hello Mr. Rogers, how are you this fine Tuesday?'\n",
    "\n",
    "Expected Output : \n",
    "No. of Upper case characters : 4\n",
    "No. of Lower case Characters : 33"
   ]
  },
  {
   "cell_type": "code",
   "execution_count": null,
   "metadata": {},
   "outputs": [],
   "source": [
    "def upperlower(strings):\n",
    "    lower_count = 0\n",
    "    upper_count = 0\n",
    "    for letters in strings:\n",
    "        if letters.isupper():\n",
    "            upper_count += 1\n",
    "        elif letters.islower():\n",
    "            lower_count += 1\n",
    "        else:\n",
    "            pass\n",
    "    print(\"Number of lower case characters are :\",lower_count)\n",
    "    print(\"Number of upper case characters are :\",upper_count)"
   ]
  },
  {
   "cell_type": "code",
   "execution_count": null,
   "metadata": {},
   "outputs": [],
   "source": [
    "strings = 'Hello Mr. Rogers, how are you this fine Tuesday?'\n",
    "upperlower(strings)"
   ]
  },
  {
   "cell_type": "markdown",
   "metadata": {},
   "source": [
    "********DAY 9********\n",
    "\n",
    "Python coding question:\n",
    "\n",
    "Write a Python function that checks whether a word or phrase is palindrome or not.\n",
    "\n",
    "Example of Palindrome:\n",
    "Hannah\n",
    "Anna"
   ]
  },
  {
   "cell_type": "code",
   "execution_count": null,
   "metadata": {},
   "outputs": [],
   "source": [
    "def palindrome(word):\n",
    "    if word.lower()[0:] == word.lower()[::-1]:\n",
    "        print(\"The given word is a palindrome\")\n",
    "    else:\n",
    "        print(\"The given word is not a palindrome\")"
   ]
  },
  {
   "cell_type": "code",
   "execution_count": null,
   "metadata": {},
   "outputs": [],
   "source": [
    "a = 'Hannah'\n",
    "palindrome(a)"
   ]
  },
  {
   "cell_type": "markdown",
   "metadata": {},
   "source": [
    "********DAY 10********\n",
    "\n",
    "Python coding question:\n",
    "\n",
    "Write a Python function to multiply all the numbers in a list.\n",
    "\n",
    "Sample List : [1, 2, 3, -4]\n",
    "Expected Output : -24"
   ]
  },
  {
   "cell_type": "code",
   "execution_count": null,
   "metadata": {},
   "outputs": [],
   "source": [
    "def multi_list(nums):\n",
    "    result = 1\n",
    "    for element in nums:\n",
    "        result *= element\n",
    "        # result = result * element #either works\n",
    "    return result"
   ]
  },
  {
   "cell_type": "code",
   "execution_count": null,
   "metadata": {},
   "outputs": [],
   "source": [
    "list = [1,2,3,4,5]\n",
    "multi_list(list)"
   ]
  },
  {
   "cell_type": "markdown",
   "metadata": {},
   "source": [
    "********DAY 11********\n",
    "\n",
    "Python coding question:\n",
    "\n",
    "Given a string, return a string where for every character in the original there are three characters\n",
    "\n",
    "paper_doll('Hello') --> 'HHHeeellllllooo'\n",
    "\n",
    "paper_doll('Mississippi') --> 'MMMiiissssssiiippppppiii'"
   ]
  },
  {
   "cell_type": "code",
   "execution_count": null,
   "metadata": {},
   "outputs": [],
   "source": [
    "def paper_doll(string):\n",
    "    new_list = [char * 3 for char in string]\n",
    "    new_string = ''.join(new_list)\n",
    "    return new_string\n",
    "\n",
    "word = 'Visual studio code'\n",
    "print(paper_doll(word))\n",
    "    "
   ]
  },
  {
   "cell_type": "code",
   "execution_count": null,
   "metadata": {},
   "outputs": [],
   "source": [
    "def paper_doll1(input_string):\n",
    "    return ''.join([i*3 for i in input_string])\n",
    "\n",
    "word1 = 'Visual studio code'\n",
    "print(paper_doll1(word1))"
   ]
  },
  {
   "cell_type": "markdown",
   "metadata": {},
   "source": [
    "********DAY 12********\n",
    "\n",
    "Python coding question:\n",
    "\n",
    "Write a code to check whether a year is leap year or not.\n",
    "\n",
    "Note:A year that is evenly divisible by 100 is a leap year only if it is also evenly divisible by 400.\n",
    "\n",
    "Desired Output:\n",
    "\n",
    "is_leap(1996)-->Leap year\n",
    "\n",
    "is_leap(2100)-->not a Leap year\n",
    "\n",
    "is_leap(2000)—>Leap year"
   ]
  },
  {
   "cell_type": "markdown",
   "metadata": {},
   "source": [
    "********DAY 13********\n",
    "\n",
    "Python coding question:\n",
    "\n",
    "Write a function that capitalizes the first and fourth letters of a name.\n",
    "\n",
    "TC 1:capitalize(\"chandrali\")\n",
    "  'ChaNdrali'\n",
    "\n",
    "TC 2:capitalize(\"roy\")\n",
    "   'Name is too short!'"
   ]
  },
  {
   "cell_type": "code",
   "execution_count": 7,
   "metadata": {},
   "outputs": [
    {
     "name": "stdout",
     "output_type": "stream",
     "text": [
      "ChaNdrali\n",
      "Length of string less than 4\n"
     ]
    }
   ],
   "source": [
    "def capitalize(input_str):\n",
    "    if len(input_str) >= 4:\n",
    "        input_str_list = list(input_str)\n",
    "        input_str_list[0] = input_str_list[0].upper()\n",
    "        input_str_list[3] = input_str_list[3].upper()\n",
    "        print(''.join(input_str_list))\n",
    "    else:\n",
    "        print(\"Length of string less than 4\")\n",
    "        \n",
    "str1 = \"chandrali\"\n",
    "str2 = 'ghj'\n",
    "capitalize(str1)\n",
    "capitalize(str2)"
   ]
  },
  {
   "cell_type": "code",
   "execution_count": 4,
   "metadata": {},
   "outputs": [
    {
     "name": "stdout",
     "output_type": "stream",
     "text": [
      "18\n"
     ]
    }
   ],
   "source": [
    "lst = [1,2,3,4,5,6,7,8,9]\n",
    "counter = 0\n",
    "for ele in lst:\n",
    "    counter += 1\n",
    "    # counter ++ # works the same as +=1 in C\n",
    "print(counter)"
   ]
  },
  {
   "cell_type": "code",
   "execution_count": null,
   "metadata": {},
   "outputs": [],
   "source": [
    "N = int(input(\"Please enter a number :\"))\n",
    "if N<2:\n",
    "    pass\n",
    "else:\n",
    "    for i in"
   ]
  },
  {
   "cell_type": "markdown",
   "metadata": {},
   "source": [
    "********DAY 14********\n",
    "\n",
    "Python coding question:\n",
    "\n",
    "\n",
    "Print the list of integers from through as a string, without spaces.\n",
    "\n",
    "Sample Input\n",
    "3\n",
    "\n",
    "Sample Output\n",
    "123"
   ]
  }
 ],
 "metadata": {
  "kernelspec": {
   "display_name": "Python 3.10.6 64-bit",
   "language": "python",
   "name": "python3"
  },
  "language_info": {
   "codemirror_mode": {
    "name": "ipython",
    "version": 3
   },
   "file_extension": ".py",
   "mimetype": "text/x-python",
   "name": "python",
   "nbconvert_exporter": "python",
   "pygments_lexer": "ipython3",
   "version": "3.10.6"
  },
  "orig_nbformat": 4,
  "vscode": {
   "interpreter": {
    "hash": "49fd5712af1c3ece0edd15a96db780ec3225b5f1f993546e31e22d59c14f183a"
   }
  }
 },
 "nbformat": 4,
 "nbformat_minor": 2
}
