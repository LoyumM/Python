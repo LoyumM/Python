{
 "cells": [
  {
   "cell_type": "code",
   "execution_count": 1,
   "metadata": {},
   "outputs": [],
   "source": [
    "def math_operation_via_postman(operation, num1, num2):\n",
    "    \n",
    "    if (operation=='add'):\n",
    "        r=num1+num2\n",
    "        result=\"the sum of \" + str(num1) + \" and \" + str(num2) + \" is \" + str(r)\n",
    "    if (operation=='subtract'):\n",
    "        r=num1-num2\n",
    "        result=\"the difference of \" + str(num1) + \" and \" + str(num2) + \" is \" + str(r)\n",
    "    if (operation=='multiply'):\n",
    "        r=num1*num2\n",
    "        result=\"the product of \" + str(num1) + \" and \" + str(num2) + \" is \" + str(r)\n",
    "    if (operation=='divide'):\n",
    "        r=num1/num2\n",
    "        result=\"the quotient of \" + str(num1) + \" and \" + str(num2) + \" is \" + str(r)\n",
    "    return result"
   ]
  },
  {
   "cell_type": "code",
   "execution_count": 2,
   "metadata": {},
   "outputs": [
    {
     "data": {
      "text/plain": [
       "'the sum of 34 and2 is36'"
      ]
     },
     "execution_count": 2,
     "metadata": {},
     "output_type": "execute_result"
    }
   ],
   "source": [
    "math_operation_via_postman(\"add\", 34, 2)"
   ]
  }
 ],
 "metadata": {
  "kernelspec": {
   "display_name": "Python 3",
   "language": "python",
   "name": "python3"
  },
  "language_info": {
   "codemirror_mode": {
    "name": "ipython",
    "version": 3
   },
   "file_extension": ".py",
   "mimetype": "text/x-python",
   "name": "python",
   "nbconvert_exporter": "python",
   "pygments_lexer": "ipython3",
   "version": "3.10.7"
  },
  "orig_nbformat": 4,
  "vscode": {
   "interpreter": {
    "hash": "0e71fac087ff239f97a80677af45088458db37fbf8ef0a2691e8afa292e413fd"
   }
  }
 },
 "nbformat": 4,
 "nbformat_minor": 2
}
