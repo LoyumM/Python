{
 "cells": [
  {
   "cell_type": "code",
   "execution_count": null,
   "metadata": {},
   "outputs": [],
   "source": [
    "## INHERITANCE\n",
    "\n",
    "# Having a general classes and a more specialised subclasses "
   ]
  },
  {
   "cell_type": "code",
   "execution_count": 1,
   "metadata": {},
   "outputs": [
    {
     "name": "stdout",
     "output_type": "stream",
     "text": [
      "Name:henry, Age:40, Height:176\n",
      "36000\n"
     ]
    }
   ],
   "source": [
    "class Person:\n",
    "    #cass variable: same value for each object, basically global values\n",
    "    \n",
    "    def __init__(self,name, age, height):\n",
    "        self.name = name#self refer to the object\n",
    "        self.age = age\n",
    "        self.height = height\n",
    "    \n",
    "    def __str__(self):\n",
    "        return 'Name:{}, Age:{}, Height:{}'.format(self.name, self.age, self.height)#this could be gibberish, and it would return gibberish\n",
    "\n",
    "    # we can also make functions    \n",
    "    def get_older(self,years):\n",
    "        self.age +=  years\n",
    "        \n",
    "class Worker(Person):#Parent class inside bracket\n",
    "    \n",
    "    def __init__(self, name, age, height, salary):\n",
    "        super(Worker, self).__init__(name, age, height)\n",
    "        self.salary = salary\n",
    "        \n",
    "    def calc_yearly_salary(self):\n",
    "        return self.salary * 12\n",
    "    \n",
    "worker = Worker(\"henry\",40,176,3000)\n",
    "print(worker)\n",
    "print(worker.calc_yearly_salary())"
   ]
  },
  {
   "cell_type": "code",
   "execution_count": 7,
   "metadata": {},
   "outputs": [
    {
     "name": "stdout",
     "output_type": "stream",
     "text": [
      "Name:henry, Age:40, Height:176, Salary 3000\n",
      "36000\n"
     ]
    }
   ],
   "source": [
    "class Person:\n",
    "    #cass variable: same value for each object, basically global values\n",
    "    \n",
    "    def __init__(self,name, age, height):\n",
    "        self.name = name#self refer to the object\n",
    "        self.age = age\n",
    "        self.height = height\n",
    "    \n",
    "    def __str__(self):\n",
    "        return 'Name:{}, Age:{}, Height:{}'.format(self.name, self.age, self.height)#this could be gibberish, and it would return gibberish\n",
    "\n",
    "    # we can also make functions    \n",
    "    def get_older(self,years):\n",
    "        self.age +=  years\n",
    "        \n",
    "class Worker(Person):#Parent class inside bracket\n",
    "    \n",
    "    def __init__(self, name, age, height, salary):\n",
    "        super(Worker, self).__init__(name, age, height)\n",
    "        self.salary = salary\n",
    "    # modying the same function\n",
    "    def __str__(self):\n",
    "        text = super(Worker, self).__str__()\n",
    "        text += ', Salary {}'.format(self.salary)\n",
    "        return text\n",
    "    \n",
    "    def calc_yearly_salary(self):\n",
    "        return self.salary * 12\n",
    "    \n",
    "worker = Worker(\"henry\",40,176,3000)\n",
    "print(worker)\n",
    "print(worker.calc_yearly_salary())"
   ]
  },
  {
   "cell_type": "code",
   "execution_count": 9,
   "metadata": {},
   "outputs": [
    {
     "ename": "NameError",
     "evalue": "name 'Vector' is not defined",
     "output_type": "error",
     "traceback": [
      "\u001b[1;31m---------------------------------------------------------------------------\u001b[0m",
      "\u001b[1;31mNameError\u001b[0m                                 Traceback (most recent call last)",
      "\u001b[1;32md:\\Exercises\\Notes\\Python\\Intermediate\\2 Inheritance.ipynb Cell 4\u001b[0m in \u001b[0;36m<cell line: 4>\u001b[1;34m()\u001b[0m\n\u001b[0;32m      <a href='vscode-notebook-cell:/d%3A/Exercises/Notes/Python/Intermediate/2%20Inheritance.ipynb#W3sZmlsZQ%3D%3D?line=0'>1</a>\u001b[0m \u001b[39m## OPERATOR OVERLOADING: Not in Java\u001b[39;00m\n\u001b[0;32m      <a href='vscode-notebook-cell:/d%3A/Exercises/Notes/Python/Intermediate/2%20Inheritance.ipynb#W3sZmlsZQ%3D%3D?line=1'>2</a>\u001b[0m \u001b[39m# defines what happens when you apply any operartor on two of our object\u001b[39;00m\n\u001b[1;32m----> <a href='vscode-notebook-cell:/d%3A/Exercises/Notes/Python/Intermediate/2%20Inheritance.ipynb#W3sZmlsZQ%3D%3D?line=3'>4</a>\u001b[0m \u001b[39mclass\u001b[39;00m \u001b[39mVector\u001b[39;00m:\n\u001b[0;32m      <a href='vscode-notebook-cell:/d%3A/Exercises/Notes/Python/Intermediate/2%20Inheritance.ipynb#W3sZmlsZQ%3D%3D?line=5'>6</a>\u001b[0m     \u001b[39mdef\u001b[39;00m \u001b[39m__init__\u001b[39m(\u001b[39mself\u001b[39m, x, y):\n\u001b[0;32m      <a href='vscode-notebook-cell:/d%3A/Exercises/Notes/Python/Intermediate/2%20Inheritance.ipynb#W3sZmlsZQ%3D%3D?line=6'>7</a>\u001b[0m         \u001b[39mself\u001b[39m\u001b[39m.\u001b[39mx \u001b[39m=\u001b[39m x\n",
      "\u001b[1;32md:\\Exercises\\Notes\\Python\\Intermediate\\2 Inheritance.ipynb Cell 4\u001b[0m in \u001b[0;36mVector\u001b[1;34m()\u001b[0m\n\u001b[0;32m     <a href='vscode-notebook-cell:/d%3A/Exercises/Notes/Python/Intermediate/2%20Inheritance.ipynb#W3sZmlsZQ%3D%3D?line=15'>16</a>\u001b[0m \u001b[39mdef\u001b[39;00m \u001b[39m__str__\u001b[39m(\u001b[39mself\u001b[39m):\n\u001b[0;32m     <a href='vscode-notebook-cell:/d%3A/Exercises/Notes/Python/Intermediate/2%20Inheritance.ipynb#W3sZmlsZQ%3D%3D?line=16'>17</a>\u001b[0m     \u001b[39mreturn\u001b[39;00m \u001b[39m\"\u001b[39m\u001b[39mX: \u001b[39m\u001b[39m{}\u001b[39;00m\u001b[39m,Y: \u001b[39m\u001b[39m{}\u001b[39;00m\u001b[39m\"\u001b[39m\u001b[39m.\u001b[39mformat(\u001b[39mself\u001b[39m\u001b[39m.\u001b[39mx, \u001b[39mself\u001b[39m\u001b[39m.\u001b[39my)\n\u001b[1;32m---> <a href='vscode-notebook-cell:/d%3A/Exercises/Notes/Python/Intermediate/2%20Inheritance.ipynb#W3sZmlsZQ%3D%3D?line=18'>19</a>\u001b[0m v1 \u001b[39m=\u001b[39m Vector(\u001b[39m2\u001b[39m,\u001b[39m5\u001b[39m)\n\u001b[0;32m     <a href='vscode-notebook-cell:/d%3A/Exercises/Notes/Python/Intermediate/2%20Inheritance.ipynb#W3sZmlsZQ%3D%3D?line=19'>20</a>\u001b[0m v2 \u001b[39m=\u001b[39m Vector(\u001b[39m6\u001b[39m,\u001b[39m3\u001b[39m)\n\u001b[0;32m     <a href='vscode-notebook-cell:/d%3A/Exercises/Notes/Python/Intermediate/2%20Inheritance.ipynb#W3sZmlsZQ%3D%3D?line=21'>22</a>\u001b[0m \u001b[39mprint\u001b[39m(v1)\n",
      "\u001b[1;31mNameError\u001b[0m: name 'Vector' is not defined"
     ]
    }
   ],
   "source": [
    "## OPERATOR OVERLOADING: Not in Java\n",
    "# defines what happens when you apply any operartor on two of our object\n",
    "\n",
    "class Vector:\n",
    "    \n",
    "    def __init__(self, x, y):\n",
    "        self.x = x\n",
    "        self.y = y\n",
    "        \n",
    "    def __add__(self, other):\n",
    "        return Vector(self.x + other.x, self.y + other.y)\n",
    "    \n",
    "    def __sub__(self, other):\n",
    "        return Vector(self.x - other.x, self.y - other.y)\n",
    "    \n",
    "    def __str__(self):\n",
    "        return \"X: {},Y: {}\".format(self.x, self.y)\n",
    "     \n",
    "    v1 = Vector(2,5)\n",
    "    v2 = Vector(6,3)\n",
    "    \n",
    "    print(v1)\n",
    "    print(v2)\n",
    "    \n",
    "    v3= v1+v2\n",
    "    "
   ]
  }
 ],
 "metadata": {
  "kernelspec": {
   "display_name": "Python 3.10.6 64-bit",
   "language": "python",
   "name": "python3"
  },
  "language_info": {
   "codemirror_mode": {
    "name": "ipython",
    "version": 3
   },
   "file_extension": ".py",
   "mimetype": "text/x-python",
   "name": "python",
   "nbconvert_exporter": "python",
   "pygments_lexer": "ipython3",
   "version": "3.10.6"
  },
  "orig_nbformat": 4,
  "vscode": {
   "interpreter": {
    "hash": "49fd5712af1c3ece0edd15a96db780ec3225b5f1f993546e31e22d59c14f183a"
   }
  }
 },
 "nbformat": 4,
 "nbformat_minor": 2
}
