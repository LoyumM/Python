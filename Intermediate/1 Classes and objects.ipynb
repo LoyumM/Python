{
 "cells": [
  {
   "cell_type": "code",
   "execution_count": null,
   "metadata": {},
   "outputs": [],
   "source": [
    "# creating a blueprint of a person\n",
    "class Person:\n",
    "# creating a constructor, self attribute refers to the object we're using   \n",
    "    def __init__(self):\n",
    "        print(\"Demo\")\n",
    "\n",
    "x = Person()#calling the default constructor"
   ]
  },
  {
   "cell_type": "code",
   "execution_count": null,
   "metadata": {},
   "outputs": [],
   "source": [
    "class Person:\n",
    "    def __init__(self):\n",
    "        self.name = \"Mike\"\n",
    "        self.age = 25\n",
    "x = Person()\n",
    "print(x.name)\n",
    "#or\n",
    "print(Person().age)"
   ]
  },
  {
   "cell_type": "code",
   "execution_count": null,
   "metadata": {},
   "outputs": [],
   "source": [
    "class Person:\n",
    "    def __init__(self,name, age, height):\n",
    "        self.name = name\n",
    "        self.age = age\n",
    "        self.height = height\n",
    "\n",
    "x = Person(\"Loyum\",26,173)\n",
    "print(\"Name and details of the first person is:\")\n",
    "print(x.name)\n",
    "print(x.age)\n",
    "print(x.height)\n",
    "print('\\n')\n",
    "y = Person(\"Tao\",23,178)\n",
    "print(\"Name and details of the second person is:\")\n",
    "print(y.name)\n",
    "print(y.age)\n",
    "print(y.height)"
   ]
  },
  {
   "cell_type": "code",
   "execution_count": null,
   "metadata": {},
   "outputs": [],
   "source": [
    "class Person:\n",
    "    #constructor\n",
    "    def __init__(self,name, age, height):\n",
    "        self.name = name\n",
    "        self.age = age\n",
    "        self.height = height\n",
    "    #destructor: method __del__ determines what happens when you delete the object\n",
    "    def __del__(self):\n",
    "        print(\"Object deleted!\")\n",
    "        \n",
    "x = Person(\"Loyum\",26,173)\n",
    "print(\"Name and details of the first person is:\")\n",
    "print(x.name)\n",
    "print(x.age)\n",
    "print(x.height)\n",
    "\n",
    "del x"
   ]
  },
  {
   "cell_type": "code",
   "execution_count": null,
   "metadata": {},
   "outputs": [],
   "source": [
    "class Person:\n",
    "    #constructor\n",
    "    def __init__(self,name, age, height):\n",
    "        self.name = name\n",
    "        self.age = age\n",
    "        self.height = height\n",
    "    # determines what happens when you print the object    \n",
    "    def __str__(self):\n",
    "        return 'Name:{}, Age:{}, Height:{}'.format(self.name, self.age, self.height)#this could be gibberish, and it would return gibberish\n",
    "    #destructor: method __del__ determines what happens when you delete the object\n",
    "    def __del__(self):\n",
    "        print(\"Object deleted!\")\n",
    "        \n",
    "x = Person(\"Loyum\",26,173)\n",
    "print(\"Name and details of the first person is:\")\n",
    "print(x)"
   ]
  },
  {
   "cell_type": "code",
   "execution_count": null,
   "metadata": {},
   "outputs": [],
   "source": [
    "class Person:\n",
    "    def __init__(self,name, age, height):\n",
    "        self.name = name\n",
    "        self.age = age\n",
    "        self.height = height\n",
    "    \n",
    "    def __str__(self):\n",
    "        return 'Name:{}, Age:{}, Height:{}'.format(self.name, self.age, self.height)#this could be gibberish, and it would return gibberish\n",
    "    \n",
    "    def __del__(self):\n",
    "        print(\"Object deleted!\")\n",
    "    # we can also make functions    \n",
    "    def get_older(self,years):\n",
    "        self.age +=  years\n",
    "        \n",
    "x = Person(\"Loyum\",26,173)\n",
    "print(\"Name and details of the first person is:\")\n",
    "print(x)"
   ]
  },
  {
   "cell_type": "code",
   "execution_count": 29,
   "metadata": {},
   "outputs": [
    {
     "name": "stdout",
     "output_type": "stream",
     "text": [
      "2\n"
     ]
    }
   ],
   "source": [
    "class Person:\n",
    "    #cass variable: same value for each object, basically global values\n",
    "    amount = 0\n",
    "    \n",
    "    def __init__(self,name, age, height):\n",
    "        self.name = name#self refer to the object\n",
    "        self.age = age\n",
    "        self.height = height\n",
    "        Person.amount += 1 #Person not self because the whole class is referneced\n",
    "    \n",
    "    def __str__(self):\n",
    "        return 'Name:{}, Age:{}, Height:{}'.format(self.name, self.age, self.height)#this could be gibberish, and it would return gibberish\n",
    "    \n",
    "    def __del__(self):\n",
    "        Person.amount -= 1\n",
    "    # we can also make functions    \n",
    "    def get_older(self,years):\n",
    "        self.age +=  years\n",
    "        \n",
    "        \n",
    "x = Person(\"Loyum\",26,173)\n",
    "y = Person(\"Tao\",23,178)\n",
    "print(Person.amount)"
   ]
  }
 ],
 "metadata": {
  "kernelspec": {
   "display_name": "Python 3.10.6 64-bit",
   "language": "python",
   "name": "python3"
  },
  "language_info": {
   "codemirror_mode": {
    "name": "ipython",
    "version": 3
   },
   "file_extension": ".py",
   "mimetype": "text/x-python",
   "name": "python",
   "nbconvert_exporter": "python",
   "pygments_lexer": "ipython3",
   "version": "3.10.6"
  },
  "orig_nbformat": 4,
  "vscode": {
   "interpreter": {
    "hash": "49fd5712af1c3ece0edd15a96db780ec3225b5f1f993546e31e22d59c14f183a"
   }
  }
 },
 "nbformat": 4,
 "nbformat_minor": 2
}
