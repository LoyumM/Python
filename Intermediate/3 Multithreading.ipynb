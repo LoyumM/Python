{
 "cells": [
  {
   "cell_type": "code",
   "execution_count": null,
   "metadata": {},
   "outputs": [],
   "source": [
    "## THREADING:\n",
    "# Makes program runs faster by running multiple simultaneouslyw\n",
    "# they are in the same process and same memory space"
   ]
  },
  {
   "cell_type": "code",
   "execution_count": 2,
   "metadata": {},
   "outputs": [
    {
     "name": "stdout",
     "output_type": "stream",
     "text": [
      "Hello World!\n"
     ]
    }
   ],
   "source": [
    "import threading\n",
    "\n",
    "def helloWorld():\n",
    "    print(\"Hello World!\")\n",
    "\n",
    "t1 = threading.Thread(target=helloWorld)\n",
    "t1.start()"
   ]
  },
  {
   "cell_type": "code",
   "execution_count": 10,
   "metadata": {},
   "outputs": [
    {
     "name": "stdout",
     "output_type": "stream",
     "text": [
      "ONE\n",
      "ONE\n",
      "ONE\n",
      "ONE\n",
      "ONE\n",
      "ONE\n",
      "ONE\n",
      "ONE\n",
      "ONE\n",
      "ONE\n",
      "TWO\n",
      "TWO\n",
      "TWO\n",
      "TWO\n",
      "TWO\n",
      "TWO\n",
      "TWO\n",
      "TWO\n",
      "TWO\n",
      "TWO\n"
     ]
    }
   ],
   "source": [
    "import threading\n",
    "def function1():\n",
    "    for x in range(10):\n",
    "        print(\"ONE\")\n",
    "def function2():\n",
    "    for y in range(10):\n",
    "        print(\"TWO\")\n",
    "\n",
    "function1()\n",
    "function2()"
   ]
  },
  {
   "cell_type": "code",
   "execution_count": 14,
   "metadata": {},
   "outputs": [
    {
     "name": "stdout",
     "output_type": "stream",
     "text": [
      "ONE\n",
      "ONE\n",
      "ONE\n",
      "ONE\n",
      "ONE\n",
      "ONE\n",
      "ONE\n",
      "ONE\n",
      "ONE\n",
      "ONE\n",
      "TWO\n",
      "TWO\n",
      "TWO\n",
      "TWO\n",
      "TWO\n",
      "TWO\n",
      "TWO\n",
      "TWO\n",
      "TWO\n",
      "TWO\n"
     ]
    }
   ],
   "source": [
    "## DOESNT WORK?\n",
    "\n",
    "import threading\n",
    "\n",
    "def function1():\n",
    "    for x in range(10):\n",
    "        print(\"ONE\")\n",
    "\n",
    "def function2():\n",
    "    for x in range(10):\n",
    "        print(\"TWO\")\n",
    "\n",
    "t1 = threading.Thread(target=function1)\n",
    "t2 = threading.Thread(target=function2)\n",
    "\n",
    "t1.start()\n",
    "t2.start()"
   ]
  },
  {
   "cell_type": "code",
   "execution_count": 1,
   "metadata": {},
   "outputs": [
    {
     "name": "stdout",
     "output_type": "stream",
     "text": [
      "Hello!\n",
      "Hello!\n",
      "Hello!\n",
      "Hello!\n",
      "Hello!\n",
      "Hello!\n",
      "Hello!\n",
      "Hello!\n",
      "Hello!\n",
      "Hello!\n",
      "Another Text\n"
     ]
    }
   ],
   "source": [
    "# waiting for a thread to finish\n",
    "import threading\n",
    "\n",
    "def hello():\n",
    "     for x in range(10):\n",
    "         print(\"Hello!\")\n",
    "         \n",
    "t1 =  threading.Thread(target=hello)\n",
    "t1.start()\n",
    "## this could be run simulateanously before the other finishes\n",
    "print(\"Another Text\")"
   ]
  },
  {
   "cell_type": "code",
   "execution_count": 19,
   "metadata": {},
   "outputs": [
    {
     "name": "stdout",
     "output_type": "stream",
     "text": [
      "Hello!\n",
      "Hello!\n",
      "Hello!\n",
      "Hello!\n",
      "Hello!\n",
      "Hello!\n",
      "Hello!\n",
      "Hello!\n",
      "Hello!\n",
      "Hello!\n",
      "Another Text\n"
     ]
    }
   ],
   "source": [
    "# waiting for a thread to finish\n",
    "import threading\n",
    "\n",
    "def hello():\n",
    "     for x in range(10):\n",
    "         print(\"Hello!\")\n",
    "         \n",
    "t1 =  threading.Thread(target=hello)\n",
    "t1.start()\n",
    "#this pauses the main thread until t1 is done\n",
    "t1.join()\n",
    "\n",
    "print(\"Another Text\")"
   ]
  }
 ],
 "metadata": {
  "kernelspec": {
   "display_name": "Python 3.10.6 64-bit",
   "language": "python",
   "name": "python3"
  },
  "language_info": {
   "codemirror_mode": {
    "name": "ipython",
    "version": 3
   },
   "file_extension": ".py",
   "mimetype": "text/x-python",
   "name": "python",
   "nbconvert_exporter": "python",
   "pygments_lexer": "ipython3",
   "version": "3.10.6"
  },
  "orig_nbformat": 4,
  "vscode": {
   "interpreter": {
    "hash": "49fd5712af1c3ece0edd15a96db780ec3225b5f1f993546e31e22d59c14f183a"
   }
  }
 },
 "nbformat": 4,
 "nbformat_minor": 2
}
