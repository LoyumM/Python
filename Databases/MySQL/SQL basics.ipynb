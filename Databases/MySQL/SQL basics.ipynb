{
 "cells": [
  {
   "cell_type": "code",
   "execution_count": 2,
   "metadata": {},
   "outputs": [
    {
     "name": "stdout",
     "output_type": "stream",
     "text": [
      "Requirement already satisfied: mysql-connector-python in c:\\users\\lmbmo\\appdata\\local\\programs\\python\\python310\\lib\\site-packages (8.0.30)\n",
      "Requirement already satisfied: protobuf<=3.20.1,>=3.11.0 in c:\\users\\lmbmo\\appdata\\local\\programs\\python\\python310\\lib\\site-packages (from mysql-connector-python) (3.19.6)\n"
     ]
    },
    {
     "name": "stderr",
     "output_type": "stream",
     "text": [
      "\n",
      "[notice] A new release of pip available: 22.2.2 -> 23.0\n",
      "[notice] To update, run: python.exe -m pip install --upgrade pip\n"
     ]
    }
   ],
   "source": [
    "!pip install mysql-connector-python"
   ]
  },
  {
   "attachments": {},
   "cell_type": "markdown",
   "metadata": {},
   "source": [
    "### Connect to mysql"
   ]
  },
  {
   "cell_type": "code",
   "execution_count": 13,
   "metadata": {},
   "outputs": [],
   "source": [
    "import mysql.connector as connection\n",
    "\n",
    "try:\n",
    "    # mydb = connection.connect(host=\"localhost\", user=\"root\", passwd = \"WordPass@SQL\", user_pure = True)\n",
    "    mydb = connection.connect(host=\"localhost\", user=\"root\", passwd = \"WordPass@SQL\")\n",
    "    # check if connection is eastablished\n",
    "    \n",
    "    query = \"SHOW DATABASES\"\n",
    "    \n",
    "    cursor = mydb.cursor() #create a cursor to execute queries\n",
    "    cursor.execute(query)\n",
    "    #print(cursor.fetchall())\n",
    "\n",
    "except Exception as e:\n",
    "    mydb.close()\n",
    "    print(str(e))"
   ]
  },
  {
   "attachments": {},
   "cell_type": "markdown",
   "metadata": {},
   "source": [
    "### Show database"
   ]
  },
  {
   "cell_type": "code",
   "execution_count": 31,
   "metadata": {},
   "outputs": [],
   "source": [
    "conn = connection.connect(host=\"localhost\", user=\"root\", passwd = \"WordPass@SQL\")\n",
    "cur = conn.cursor()   "
   ]
  },
  {
   "cell_type": "code",
   "execution_count": 32,
   "metadata": {},
   "outputs": [],
   "source": [
    "cur.execute(\"show databases\")"
   ]
  },
  {
   "cell_type": "code",
   "execution_count": 28,
   "metadata": {},
   "outputs": [
    {
     "data": {
      "text/plain": [
       "[('information_schema',),\n",
       " ('mysql',),\n",
       " ('performance_schema',),\n",
       " ('sakila',),\n",
       " ('sys',),\n",
       " ('world',),\n",
       " ('yums',)]"
      ]
     },
     "execution_count": 28,
     "metadata": {},
     "output_type": "execute_result"
    }
   ],
   "source": [
    "cur.fetchall()"
   ]
  },
  {
   "cell_type": "code",
   "execution_count": 33,
   "metadata": {},
   "outputs": [],
   "source": [
    "res = cur.fetchall()"
   ]
  },
  {
   "cell_type": "code",
   "execution_count": 34,
   "metadata": {},
   "outputs": [
    {
     "data": {
      "text/plain": [
       "('information_schema',)"
      ]
     },
     "execution_count": 34,
     "metadata": {},
     "output_type": "execute_result"
    }
   ],
   "source": [
    "res[0]"
   ]
  },
  {
   "cell_type": "code",
   "execution_count": 38,
   "metadata": {},
   "outputs": [
    {
     "name": "stdout",
     "output_type": "stream",
     "text": [
      "information_schema\n",
      "mysql\n",
      "performance_schema\n",
      "sakila\n",
      "sys\n",
      "world\n",
      "yums\n"
     ]
    }
   ],
   "source": [
    "for i in res:\n",
    "    print(i[0])"
   ]
  },
  {
   "attachments": {},
   "cell_type": "markdown",
   "metadata": {},
   "source": [
    "### Create database"
   ]
  },
  {
   "cell_type": "code",
   "execution_count": 44,
   "metadata": {},
   "outputs": [],
   "source": [
    "conn = connection.connect(host=\"localhost\", user=\"root\", passwd = \"WordPass@SQL\")\n",
    "cur = conn.cursor()   "
   ]
  },
  {
   "cell_type": "code",
   "execution_count": null,
   "metadata": {},
   "outputs": [],
   "source": [
    "cur.execute(\"create database test123\")"
   ]
  },
  {
   "cell_type": "code",
   "execution_count": 46,
   "metadata": {},
   "outputs": [
    {
     "name": "stdout",
     "output_type": "stream",
     "text": [
      "information_schema\n",
      "mysql\n",
      "performance_schema\n",
      "sakila\n",
      "sys\n",
      "test123\n",
      "world\n",
      "yums\n"
     ]
    }
   ],
   "source": [
    "cur.execute(\"show databases\")\n",
    "res = cur.fetchall()\n",
    "for i in res:\n",
    "    print(i[0])"
   ]
  },
  {
   "attachments": {},
   "cell_type": "markdown",
   "metadata": {},
   "source": [
    "### Creating a table\n"
   ]
  },
  {
   "cell_type": "code",
   "execution_count": 1,
   "metadata": {},
   "outputs": [
    {
     "name": "stdout",
     "output_type": "stream",
     "text": [
      "Database created\n"
     ]
    }
   ],
   "source": [
    "import mysql.connector as connection\n",
    "\n",
    "try:\n",
    "    # mydb = connection.connect(host=\"localhost\", user=\"root\", passwd = \"WordPass@SQL\", user_pure = True)\n",
    "    mydb = connection.connect(host=\"localhost\", user=\"root\", passwd = \"WordPass@SQL\")\n",
    "    # check if connection is eastablished\n",
    "    \n",
    "    query = \"Create database Student\"\n",
    "    cursor = mydb.cursor() #create a cursor to execute queries\n",
    "    cursor.execute(query)\n",
    "    print(\"Database created\")\n",
    "\n",
    "except Exception as e:\n",
    "    mydb.close()\n",
    "    print(str(e)) "
   ]
  },
  {
   "cell_type": "code",
   "execution_count": 5,
   "metadata": {},
   "outputs": [
    {
     "name": "stdout",
     "output_type": "stream",
     "text": [
      "True\n",
      "Table created\n"
     ]
    }
   ],
   "source": [
    "import mysql.connector as connection\n",
    "\n",
    "try:\n",
    "    mydb = connection.connect(host=\"localhost\", database = 'Student',user=\"root\", passwd=\"WordPass@SQL\")\n",
    "    print(mydb.is_connected())\n",
    "\n",
    "    \n",
    "    query = \"CREATE TABLE StudentDetails (StudentId INT(10) AUTO_INCREMENT PRIMARY KEY, FirstName VARCHAR(60),\"\\\n",
    "        \"LastName VARCHAR(60), RegistrationDate DATE, Class VARCHAR(20), Section VARCHAR(10))\"\n",
    "    cursor = mydb.cursor()\n",
    "    cursor.execute(query)\n",
    "    print(\"Table created\")\n",
    "\n",
    "except Exception as e:\n",
    "    mydb.close()\n",
    "    print(str(e)) "
   ]
  },
  {
   "attachments": {},
   "cell_type": "markdown",
   "metadata": {},
   "source": [
    "### Inserting into table"
   ]
  },
  {
   "cell_type": "code",
   "execution_count": 6,
   "metadata": {},
   "outputs": [
    {
     "name": "stdout",
     "output_type": "stream",
     "text": [
      "True\n",
      "Values inserted into the table!!\n"
     ]
    }
   ],
   "source": [
    "import mysql.connector as connection\n",
    "\n",
    "try:\n",
    "    mydb = connection.connect(host=\"localhost\", database = 'Student',user=\"root\", passwd=\"WordPass@SQL\")\n",
    "    print(mydb.is_connected())\n",
    "    \n",
    "    query = \"INSERT INTO StudentDetails VALUES ('1132','Sachin','Kumar','1997-11-11','Eleventh','A')\"\n",
    "\n",
    "    cursor = mydb.cursor() #create a cursor to execute queries\n",
    "    cursor.execute(query)\n",
    "    print(\"Values inserted into the table!!\")\n",
    "    mydb.commit()\n",
    "    mydb.close()\n",
    "    \n",
    "except Exception as e:\n",
    "    mydb.close()\n",
    "    print(str(e))"
   ]
  },
  {
   "cell_type": "code",
   "execution_count": 15,
   "metadata": {},
   "outputs": [
    {
     "name": "stdout",
     "output_type": "stream",
     "text": [
      "True\n"
     ]
    }
   ],
   "source": [
    "mydb = connection.connect(host=\"localhost\", database = 'Student',user=\"root\", passwd=\"WordPass@SQL\")\n",
    "print(mydb.is_connected())\n",
    "cursor = mydb.cursor()"
   ]
  },
  {
   "cell_type": "code",
   "execution_count": 16,
   "metadata": {},
   "outputs": [],
   "source": [
    "query = \"INSERT INTO StudentDetails VALUES ('4564','Budha','Allknowing','2000-01-01','Thirteen','B')\"\n",
    "cursor.execute(query)\n",
    "mydb.commit()\n",
    "mydb.close()"
   ]
  },
  {
   "attachments": {},
   "cell_type": "markdown",
   "metadata": {},
   "source": [
    "Inserting multiple items"
   ]
  },
  {
   "cell_type": "code",
   "execution_count": 20,
   "metadata": {},
   "outputs": [
    {
     "name": "stdout",
     "output_type": "stream",
     "text": [
      "True\n"
     ]
    }
   ],
   "source": [
    "mydb = connection.connect(host=\"localhost\", database = 'Student',user=\"root\", passwd=\"WordPass@SQL\")\n",
    "print(mydb.is_connected())\n",
    "cur = mydb.cursor()\n",
    "\n",
    "cur.execute(\"insert into StudentDetails values(4567,'Loyumba' , 'Moirangthem', '2022-03-11', 'Thirtythree', 'A')\")\n",
    "cur.execute(\"insert into StudentDetails values(4568,'Prabhakar', 'Laishram', '2018-11-14', 'Thirtyfour', 'A')\")\n",
    "cur.execute(\"insert into StudentDetails values(4569,'Birla', 'Laimayum', '2021-07-15', 'Thirtfive', 'A')\")\n",
    "cur.execute(\"insert into StudentDetails values(4570,'Sonica', 'Thiyam', '2011-05-09', 'Thirtysix', 'A')\")\n",
    "cur.execute(\"insert into StudentDetails values(4571,'Irabanta', 'Nongmeikappam', '2005-06-05', 'Thirtyseven', 'A')\")\n",
    "cur.execute(\"insert into StudentDetails values(4572,'Bhaskar' , 'Laishram', '2007-12-25', 'Twentythree', 'B')\")\n",
    "cur.execute(\"insert into StudentDetails values(4573,'Udit', 'Chhetri', '2020-03-10', 'Twentyfour', 'B')\")\n",
    "cur.execute(\"insert into StudentDetails values(4574,'Memthoi', 'Thiyam', '2014-04-05', 'Twentyfive', 'B')\")\n",
    "cur.execute(\"insert into StudentDetails values(4575,'Sorobina', 'Laishram', '2008-08-18', 'Twentysix', 'B')\")\n",
    "cur.execute(\"insert into StudentDetails values(4576,'Tom', 'Thounaojam', '2019-09-26', 'Twentyseven', 'B')\")\n",
    "cur.execute(\"insert into StudentDetails values(4578,'Totoro', 'Totoro', '1996-08-31', 'Twentyeight', 'B')\")\n",
    "\n",
    "mydb.commit()\n",
    "mydb.close()"
   ]
  },
  {
   "attachments": {},
   "cell_type": "markdown",
   "metadata": {},
   "source": [
    "### Fetching data from a table"
   ]
  },
  {
   "cell_type": "code",
   "execution_count": 21,
   "metadata": {},
   "outputs": [
    {
     "name": "stdout",
     "output_type": "stream",
     "text": [
      "True\n",
      "(1132, 'Sachin', 'Kumar', datetime.date(1997, 11, 11), 'Eleventh', 'A')\n",
      "(4564, 'Budha', 'Allknowing', datetime.date(2000, 1, 1), 'Thirteen', 'B')\n",
      "(4567, 'Loyumba', 'Moirangthem', datetime.date(2022, 3, 11), 'Thirtythree', 'A')\n",
      "(4568, 'Prabhakar', 'Laishram', datetime.date(2018, 11, 14), 'Thirtyfour', 'A')\n",
      "(4569, 'Birla', 'Laimayum', datetime.date(2021, 7, 15), 'Thirtfive', 'A')\n",
      "(4570, 'Sonica', 'Thiyam', datetime.date(2011, 5, 9), 'Thirtysix', 'A')\n",
      "(4571, 'Irabanta', 'Nongmeikappam', datetime.date(2005, 6, 5), 'Thirtyseven', 'A')\n",
      "(4572, 'Bhaskar', 'Laishram', datetime.date(2007, 12, 25), 'Twentythree', 'B')\n",
      "(4573, 'Udit', 'Chhetri', datetime.date(2020, 3, 10), 'Twentyfour', 'B')\n",
      "(4574, 'Memthoi', 'Thiyam', datetime.date(2014, 4, 5), 'Twentyfive', 'B')\n",
      "(4575, 'Sorobina', 'Laishram', datetime.date(2008, 8, 18), 'Twentysix', 'B')\n",
      "(4576, 'Tom', 'Thounaojam', datetime.date(2019, 9, 26), 'Twentyseven', 'B')\n",
      "(4578, 'Totoro', 'Totoro', datetime.date(1996, 8, 31), 'Twentyeight', 'B')\n"
     ]
    }
   ],
   "source": [
    "import mysql.connector as connection\n",
    "\n",
    "try:\n",
    "    mydb = connection.connect(host=\"localhost\", database = 'Student',user=\"root\", passwd=\"WordPass@SQL\")\n",
    "    print(mydb.is_connected())\n",
    "    \n",
    "    query = \"SELECT * FROM StudentDetails\"\n",
    "    cursor = mydb.cursor() \n",
    "    cursor.execute(query)\n",
    "    for result in cursor.fetchall():\n",
    "        print(result)\n",
    "    mydb.commit()\n",
    "    mydb.close()\n",
    "    \n",
    "except Exception as e:\n",
    "    mydb.close()\n",
    "    print(str(e))"
   ]
  }
 ],
 "metadata": {
  "kernelspec": {
   "display_name": "Python 3",
   "language": "python",
   "name": "python3"
  },
  "language_info": {
   "codemirror_mode": {
    "name": "ipython",
    "version": 3
   },
   "file_extension": ".py",
   "mimetype": "text/x-python",
   "name": "python",
   "nbconvert_exporter": "python",
   "pygments_lexer": "ipython3",
   "version": "3.10.7"
  },
  "orig_nbformat": 4,
  "vscode": {
   "interpreter": {
    "hash": "0e71fac087ff239f97a80677af45088458db37fbf8ef0a2691e8afa292e413fd"
   }
  }
 },
 "nbformat": 4,
 "nbformat_minor": 2
}
