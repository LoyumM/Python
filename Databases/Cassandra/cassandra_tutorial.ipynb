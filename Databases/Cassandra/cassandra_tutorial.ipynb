{
 "cells": [
  {
   "cell_type": "code",
   "execution_count": 1,
   "metadata": {},
   "outputs": [
    {
     "name": "stdout",
     "output_type": "stream",
     "text": [
      "Collecting cassandra-driver\n",
      "  Downloading cassandra-driver-3.25.0.tar.gz (289 kB)\n",
      "     -------------------------------------- 290.0/290.0 kB 6.0 MB/s eta 0:00:00\n",
      "  Preparing metadata (setup.py): started\n",
      "  Preparing metadata (setup.py): finished with status 'done'\n",
      "Requirement already satisfied: six>=1.9 in c:\\users\\lmbmo\\appdata\\roaming\\python\\python310\\site-packages (from cassandra-driver) (1.16.0)\n",
      "Collecting geomet<0.3,>=0.1\n",
      "  Downloading geomet-0.2.1.post1-py3-none-any.whl (18 kB)\n",
      "Requirement already satisfied: click in c:\\users\\lmbmo\\appdata\\local\\programs\\python\\python310\\lib\\site-packages (from geomet<0.3,>=0.1->cassandra-driver) (8.1.3)\n",
      "Requirement already satisfied: colorama in c:\\users\\lmbmo\\appdata\\roaming\\python\\python310\\site-packages (from click->geomet<0.3,>=0.1->cassandra-driver) (0.4.5)\n",
      "Building wheels for collected packages: cassandra-driver\n",
      "  Building wheel for cassandra-driver (setup.py): started\n",
      "  Building wheel for cassandra-driver (setup.py): finished with status 'done'\n",
      "  Created wheel for cassandra-driver: filename=cassandra_driver-3.25.0-cp310-cp310-win_amd64.whl size=329432 sha256=57dc527e2cccd04908e1dee0eba2f2d0d02a2e9ac05224f594ed57bd8be2f961\n",
      "  Stored in directory: c:\\users\\lmbmo\\appdata\\local\\pip\\cache\\wheels\\1f\\35\\e4\\4778e7f66cef4fd7a8d9bee1a1a232b2e8b977d40f4b187af2\n",
      "Successfully built cassandra-driver\n",
      "Installing collected packages: geomet, cassandra-driver\n",
      "Successfully installed cassandra-driver-3.25.0 geomet-0.2.1.post1\n"
     ]
    },
    {
     "name": "stderr",
     "output_type": "stream",
     "text": [
      "\n",
      "[notice] A new release of pip available: 22.2.2 -> 23.0\n",
      "[notice] To update, run: python.exe -m pip install --upgrade pip\n"
     ]
    }
   ],
   "source": [
    "!pip install cassandra-driver"
   ]
  },
  {
   "cell_type": "code",
   "execution_count": 2,
   "metadata": {},
   "outputs": [
    {
     "name": "stdout",
     "output_type": "stream",
     "text": [
      "3.25.0\n"
     ]
    }
   ],
   "source": [
    "import cassandra \n",
    "print (cassandra.__version__)"
   ]
  },
  {
   "cell_type": "code",
   "execution_count": 3,
   "metadata": {},
   "outputs": [
    {
     "name": "stdout",
     "output_type": "stream",
     "text": [
      "4.0.0.6816\n"
     ]
    }
   ],
   "source": [
    "from cassandra.cluster import Cluster\n",
    "from cassandra.auth import PlainTextAuthProvider\n",
    "\n",
    "cloud_config= {\n",
    "  'secure_connect_bundle': 'C:\\secure-connect-test.zip'\n",
    "}\n",
    "auth_provider = PlainTextAuthProvider('HbOyRZvIWSQFDmbylClaMYyW', 'CHBkB7xxPMtRdIkPaf5k7cAmw0yi6tZ7FGnjc1wMBvWA-iStHQ6.y.Tvw_N1+0Txzmq9D2fFiOfmrJ8E7QMxCbhl_G7GWBxDZ-FTZa8Q.WQ9F+K.U2SSpOLAaoZZd3,S')\n",
    "cluster = Cluster(cloud=cloud_config, auth_provider=auth_provider)\n",
    "session = cluster.connect()\n",
    "\n",
    "row = session.execute(\"select release_version from system.local\").one()\n",
    "if row:\n",
    "  print(row[0])\n",
    "else:\n",
    "  print(\"An error occurred.\")"
   ]
  }
 ],
 "metadata": {
  "kernelspec": {
   "display_name": "Python 3",
   "language": "python",
   "name": "python3"
  },
  "language_info": {
   "codemirror_mode": {
    "name": "ipython",
    "version": 3
   },
   "file_extension": ".py",
   "mimetype": "text/x-python",
   "name": "python",
   "nbconvert_exporter": "python",
   "pygments_lexer": "ipython3",
   "version": "3.10.7"
  },
  "orig_nbformat": 4,
  "vscode": {
   "interpreter": {
    "hash": "0e71fac087ff239f97a80677af45088458db37fbf8ef0a2691e8afa292e413fd"
   }
  }
 },
 "nbformat": 4,
 "nbformat_minor": 2
}
