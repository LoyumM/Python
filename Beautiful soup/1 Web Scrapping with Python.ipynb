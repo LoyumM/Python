{
 "cells": [
  {
   "cell_type": "code",
   "execution_count": 24,
   "metadata": {},
   "outputs": [
    {
     "name": "stdout",
     "output_type": "stream",
     "text": [
      "<html>\n",
      "<head>\n",
      "<title>Your Title Here</title>\n",
      "</head>\n",
      "<body bgcolor=\"FFFFFF\">\n",
      "<center><img align=\"BOTTOM\" src=\"clouds.jpg\"/> </center>\n",
      "<hr/>\n",
      "<a href=\"http://somegreatsite.com\">Link Name</a>\n",
      "\n",
      "is a link to another nifty site\n",
      "\n",
      "<h1>This is a Header</h1>\n",
      "<h2>This is a Medium Header</h2>\n",
      "\n",
      "Send me mail at <a href=\"mailto:support@yourcompany.com\">\n",
      "\n",
      "support@yourcompany.com</a>.\n",
      "\n",
      "<p> This is a new paragraph!\n",
      "\n",
      "<p> <b color=\"red\">This is a new paragraph!</b>\n",
      "<br/> <b><i>This is a new sentence without a paragraph break, in bold italics.</i></b>\n",
      "<hr/>\n",
      "</p></p></body>\n",
      "</html>\n",
      "\n"
     ]
    }
   ],
   "source": [
    "from bs4 import BeautifulSoup\n",
    "\n",
    "with open(\"index.html\",\"r\") as f: #r is opening in read mode\n",
    "    doc = BeautifulSoup(f, \"html.parser\") #other parsers available\n",
    "\n",
    "print(doc)"
   ]
  },
  {
   "cell_type": "code",
   "execution_count": 2,
   "metadata": {},
   "outputs": [
    {
     "name": "stdout",
     "output_type": "stream",
     "text": [
      "<html>\n",
      " <head>\n",
      "  <title>\n",
      "   Your Title Here\n",
      "  </title>\n",
      " </head>\n",
      " <body bgcolor=\"FFFFFF\">\n",
      "  <center>\n",
      "   <img align=\"BOTTOM\" src=\"clouds.jpg\"/>\n",
      "  </center>\n",
      "  <hr/>\n",
      "  <a href=\"http://somegreatsite.com\">\n",
      "   Link Name\n",
      "  </a>\n",
      "  is a link to another nifty site\n",
      "  <h1>\n",
      "   This is a Header\n",
      "  </h1>\n",
      "  <h2>\n",
      "   This is a Medium Header\n",
      "  </h2>\n",
      "  Send me mail at\n",
      "  <a href=\"mailto:support@yourcompany.com\">\n",
      "   support@yourcompany.com\n",
      "  </a>\n",
      "  .\n",
      "  <p>\n",
      "   This is a new paragraph!\n",
      "   <p>\n",
      "    <b color=\"red\">\n",
      "     This is a new paragraph!\n",
      "    </b>\n",
      "    <br/>\n",
      "    <b>\n",
      "     <i>\n",
      "      This is a new sentence without a paragraph break, in bold italics.\n",
      "     </i>\n",
      "    </b>\n",
      "    <hr/>\n",
      "   </p>\n",
      "  </p>\n",
      " </body>\n",
      "</html>\n",
      "\n"
     ]
    }
   ],
   "source": [
    "# adds indentation\n",
    "print(doc.prettify())"
   ]
  },
  {
   "cell_type": "code",
   "execution_count": 25,
   "metadata": {},
   "outputs": [
    {
     "name": "stdout",
     "output_type": "stream",
     "text": [
      "<title>Your Title Here</title>\n",
      "Your Title Here\n"
     ]
    }
   ],
   "source": [
    "# get the tag name\n",
    "tag = doc.title\n",
    "print(tag)\n",
    "print(tag.string)# prints out as string"
   ]
  },
  {
   "cell_type": "code",
   "execution_count": 8,
   "metadata": {},
   "outputs": [
    {
     "name": "stdout",
     "output_type": "stream",
     "text": [
      "<html>\n",
      "<head>\n",
      "<title>hello</title>\n",
      "</head>\n",
      "<body bgcolor=\"FFFFFF\">\n",
      "<center><img align=\"BOTTOM\" src=\"clouds.jpg\"/> </center>\n",
      "<hr/>\n",
      "<a href=\"http://somegreatsite.com\">Link Name</a>\n",
      "\n",
      "is a link to another nifty site\n",
      "\n",
      "<h1>This is a Header</h1>\n",
      "<h2>This is a Medium Header</h2>\n",
      "\n",
      "Send me mail at <a href=\"mailto:support@yourcompany.com\">\n",
      "\n",
      "support@yourcompany.com</a>.\n",
      "\n",
      "<p> This is a new paragraph!\n",
      "\n",
      "<p> <b color=\"red\">This is a new paragraph!</b>\n",
      "<br/> <b><i>This is a new sentence without a paragraph break, in bold italics.</i></b>\n",
      "<hr/>\n",
      "</p></p></body>\n",
      "</html>\n",
      "\n"
     ]
    }
   ],
   "source": [
    "# updating tag\n",
    "tag.string =  \"hello\"\n",
    "print(doc)"
   ]
  },
  {
   "cell_type": "code",
   "execution_count": 26,
   "metadata": {},
   "outputs": [
    {
     "name": "stdout",
     "output_type": "stream",
     "text": [
      "[<p> This is a new paragraph!\n",
      "\n",
      "<p> <b color=\"red\">This is a new paragraph!</b>\n",
      "<br/> <b><i>This is a new sentence without a paragraph break, in bold italics.</i></b>\n",
      "<hr/>\n",
      "</p></p>, <p> <b color=\"red\">This is a new paragraph!</b>\n",
      "<br/> <b><i>This is a new sentence without a paragraph break, in bold italics.</i></b>\n",
      "<hr/>\n",
      "</p>]\n"
     ]
    }
   ],
   "source": [
    "tags = doc.find_all(\"p\")\n",
    "print(tags)"
   ]
  },
  {
   "cell_type": "code",
   "execution_count": 7,
   "metadata": {},
   "outputs": [
    {
     "name": "stdout",
     "output_type": "stream",
     "text": [
      "[<b color=\"red\">This is a new paragraph!</b>, <b><i>This is a new sentence without a paragraph break, in bold italics.</i></b>]\n"
     ]
    }
   ],
   "source": [
    "tags = doc.find_all(\"p\")[0]\n",
    "print(tags.find_all(\"b\"))"
   ]
  },
  {
   "cell_type": "code",
   "execution_count": 27,
   "metadata": {},
   "outputs": [],
   "source": [
    "import requests\n",
    "#first link doesnt work\n",
    "# url = \"https://www.newegg.ca/gigabyte-geforce-rtx-3080-ti-gv-n308tgaming-oc-12gd/p/N82E16814932436?Description=3080&cm_re=3080-_-14-932-436-_-Product\"\n",
    "url = \"https://en.wikipedia.org/wiki/James_Webb_Space_Telescope\"\n",
    "\n",
    "result = requests.get(url)\n",
    "doc = BeautifulSoup(result.text, \"html.parser\")"
   ]
  },
  {
   "cell_type": "code",
   "execution_count": 40,
   "metadata": {},
   "outputs": [
    {
     "name": "stdout",
     "output_type": "stream",
     "text": [
      "James Webb Space Telescope\n"
     ]
    }
   ],
   "source": [
    "prices = doc.find_all(\"b\")\n",
    "print(prices[0].string)"
   ]
  }
 ],
 "metadata": {
  "kernelspec": {
   "display_name": "Python 3",
   "language": "python",
   "name": "python3"
  },
  "language_info": {
   "codemirror_mode": {
    "name": "ipython",
    "version": 3
   },
   "file_extension": ".py",
   "mimetype": "text/x-python",
   "name": "python",
   "nbconvert_exporter": "python",
   "pygments_lexer": "ipython3",
   "version": "3.10.7 (tags/v3.10.7:6cc6b13, Sep  5 2022, 14:08:36) [MSC v.1933 64 bit (AMD64)]"
  },
  "orig_nbformat": 4,
  "vscode": {
   "interpreter": {
    "hash": "0e71fac087ff239f97a80677af45088458db37fbf8ef0a2691e8afa292e413fd"
   }
  }
 },
 "nbformat": 4,
 "nbformat_minor": 2
}
