{
 "cells": [
  {
   "cell_type": "code",
   "execution_count": null,
   "metadata": {},
   "outputs": [],
   "source": [
    "##DAY 15\n",
    "## Problem statement:\n",
    "# Print only the words that start with \"s\" in a sentence.\n",
    "\n",
    "# Input:\n",
    "# Salad is healthy snack.\n",
    "\n",
    "# Output:\n",
    "# Salad\n",
    "# snack\n",
    "\n",
    "sentence = input(\"enter your sentence: \")\n",
    "print(\"The sentenced entered is: \", sentence)\n",
    "words_list = sentence.split()\n",
    "selected_words = []\n",
    "for words in words_list:\n",
    "    if words.startswith('s') or words.startswith(\"S\"):\n",
    "        selected_words.append(words)\n",
    "print(selected_words)"
   ]
  },
  {
   "cell_type": "code",
   "execution_count": null,
   "metadata": {},
   "outputs": [],
   "source": [
    "## DAY 16\n",
    "## Problem statement:\n",
    "# Write a program that prints the integers from 1 to 100. \n",
    "# But for multiples of three print \"Fizz\" instead of the number, \n",
    "# and for the multiples of five print \"Buzz\".\n",
    "# For numbers which are multiples of both three and five print \"FizzBuzz\".\n",
    "\n",
    "for number in range(1,101):\n",
    "    if (number % 3 == 0) and (number % 5 == 0):\n",
    "        print(\"FizzBuzz\")\n",
    "    elif number % 5 == 0:\n",
    "        print(\"Buzz\") \n",
    "    elif number % 3 == 0:\n",
    "        print(\"Fizz\")\n",
    "    else:\n",
    "        print(str(number))"
   ]
  },
  {
   "cell_type": "code",
   "execution_count": null,
   "metadata": {},
   "outputs": [],
   "source": [
    "## DAY 17\n",
    "## Problem statement:L\n",
    "# Use a List Comprehension to create a list of all numbers between 1 and 50 that are divisible by 3.\n",
    "\n",
    "# for loop\n",
    "ls = []\n",
    "for x in range(1,51):\n",
    "    if x % 3 == 0:\n",
    "        ls.append(x)\n",
    "print(\"list from for loop: \",ls)\n",
    "\n",
    "# list comprehension\n",
    "newlist = [x for x in range(1,51) if x %3 == 0]\n",
    "print(\"list from list comprehenion: \",newlist)"
   ]
  },
  {
   "cell_type": "code",
   "execution_count": null,
   "metadata": {},
   "outputs": [],
   "source": [
    "## DAY 18\n",
    "## Problem statement:\n",
    "# Given an integer n, return True if n is within 10 of either 100 or 200.\n",
    "# abs(90)--True\n",
    "# abs(220)--False\n",
    "\n",
    "num = int(input(\"Enter your number: \"))\n",
    "print(\"The number entered is: \", num)\n",
    "if abs(num - 100) <= 10   or abs(num -200) <= 10:\n",
    "    print ('True')\n",
    "else:\n",
    "    print('False')\n"
   ]
  },
  {
   "cell_type": "code",
   "execution_count": null,
   "metadata": {},
   "outputs": [],
   "source": [
    "## DAY 20\n",
    "\n",
    "## Problem statement:\n",
    "# Write a function in Python that accepts a credit card number. \n",
    "# It should return a string where all the characters are hidden with an asterisk except the last four. \n",
    "# For example, if the function gets sent \"4444444444444444\", then it should return \"4444\".\n",
    "\n",
    "num = int(input('Enter your number:'))\n",
    "str_num = str(num)\n",
    "len_str =len(str_num)\n",
    "msk = []\n",
    "#masking with asterisk\n",
    "for ele in range(0,len_str-4):\n",
    "    msk.append('*')\n",
    "#last  4 to last :\n",
    "for ele in range(len_str-4,len_str):\n",
    "    msk.append(str_num[ele])\n",
    "#join  the str\n",
    "print(''.join(msk))\n"
   ]
  },
  {
   "cell_type": "code",
   "execution_count": null,
   "metadata": {},
   "outputs": [],
   "source": [
    "#Akshay's version:\n",
    "num = input('Enter your number:')\n",
    "msk_num = 'X'*(len(num)-4) + str(num[-4:])\n",
    "print(\"Output of Akshay's version: \",msk_num)"
   ]
  },
  {
   "cell_type": "code",
   "execution_count": null,
   "metadata": {},
   "outputs": [],
   "source": [
    "## DAY 21\n",
    "## Problem statement:\n",
    "# Write a Python code to accept a string and count the number of vowels and consonants.\n",
    "# Print them separately.\n",
    "\n",
    "vowels = ['a','e','i','o','u']\n",
    "int_str = str(input(\"Enter input: \"))\n",
    "print(\"The sentence entered is: \", int_str)\n",
    "\n",
    "vow_count = 0\n",
    "con_count = 0\n",
    "for character in int_str:\n",
    "    if character in vowels:\n",
    "        vow_count += 1\n",
    "    elif character == \" \" or character == \".\" or character == \"!\" or character == \"?\":\n",
    "        pass\n",
    "    else:\n",
    "        con_count += 1\n",
    "\n",
    "print(\"The number of vowels are: \",vow_count)\n",
    "print(\"The number of consonants are: \",con_count)"
   ]
  },
  {
   "cell_type": "code",
   "execution_count": null,
   "metadata": {},
   "outputs": [],
   "source": [
    "## DAY 22:\n",
    "## Probllem statement:\n",
    "# Write a function in Python that accepts a list of any length that contains a mix of non-negative integers and strings.\n",
    "# The function should return a list with only the integers in the original list in the same order.\n",
    "import re\n",
    "input_str = input(\"Enter here: \")\n",
    "print(\"Input = \", input_str)\n",
    "numbers = re.findall(r'\\d', input_str)\n",
    "print(numbers)"
   ]
  },
  {
   "cell_type": "code",
   "execution_count": null,
   "metadata": {},
   "outputs": [],
   "source": [
    "## DAY 23\n",
    "## Problem statement:\n",
    "# Write a program to find how many times substring “Emma” appears in the given string.\n",
    "# input:\n",
    "# str = \"Emma is good developer. Emma is a writer\"\n",
    "# Output:\n",
    "# Emma appeared 2 times\n",
    "import re\n",
    "input_str = input(\"Enter sentence here: \")\n",
    "print(\"Entered sentence is: \", input_str)\n",
    "print(f'Emma appeeared {len(re.findall(\"Emma\",input_str))} times')"
   ]
  },
  {
   "cell_type": "code",
   "execution_count": null,
   "metadata": {},
   "outputs": [],
   "source": [
    "## DAY 24\n",
    "## Problem statement:\n",
    "\n",
    "# Write a program to find the sum of squares of first 'n' natural numbers.\n",
    "# Input : N = 4\n",
    "# Output : 30\n",
    "\n",
    "int_input = int(input(\"Enter the number: \"))\n",
    "print(\"The number entered is: \", int_input)\n",
    "sum = 0\n",
    "for num in range(1, int_input+1):\n",
    "    sum += num**2\n",
    "print(\"The sum of squares is:\", sum)"
   ]
  },
  {
   "cell_type": "code",
   "execution_count": null,
   "metadata": {},
   "outputs": [],
   "source": [
    "## DAY 25\n",
    "## Problem statement:\n",
    "# Write a program to print all the prime numbers between 0 to N.\n",
    "# N being any integer.\n",
    "\n",
    "upper = int(input(\"Enter the upper bound: \"))\n",
    "prime_list = []\n",
    "for num in range(1, upper + 1):\n",
    "   if num > 1: # all prime numbers are greater than 1\n",
    "       for i in range(2, num):# only divisible by 1 and itself hence 2 to num\n",
    "           if (num % i) == 0:\n",
    "               break\n",
    "       else:\n",
    "           prime_list.append(num)           \n",
    "print(\"Prime numbers between 0 and\", upper, \"are:\", prime_list)\n"
   ]
  },
  {
   "cell_type": "code",
   "execution_count": null,
   "metadata": {},
   "outputs": [],
   "source": [
    "## DAY 26\n",
    "## PROBLEM STATEMENTS:\n",
    "# Write a program to print the Fibonacci series.\n",
    "# The Fibonacci numbers are the numbers in the following integer sequence.\n",
    "# 0, 1, 1, 2, 3, 5, 8, 13, 21, 34, 55, 89, 144, ……..\n",
    "# In mathematical terms, the sequence Fn of Fibonacci numbers is defined by the recurrence relation \n",
    "# Fn = Fn-1 + Fn-2\n",
    "# with seed values  \n",
    "# F0 = 0 and F1 = 1\n",
    "\n",
    "num = int(input(\"Enter number: \"))\n",
    "count = 0\n",
    "a = 0\n",
    "b = 1\n",
    "while count <= num:\n",
    "    print(a, end = \" \")\n",
    "    res = a + b\n",
    "    a = b\n",
    "    b = res\n",
    "    count += 1\n"
   ]
  },
  {
   "cell_type": "code",
   "execution_count": null,
   "metadata": {},
   "outputs": [],
   "source": [
    "## DAY 27\n",
    "## PROBLEM STATEMENT:\n",
    "# Given an input by the user in the form of a positive integer, the program should print out a triangle-shaped pattern made of the star character (*). The input should be stored in a variable called N. N represents the number of rows in the pattern. The number of stars in each row increases by 2 each time.\n",
    "# For example:\n",
    "# If N = 3\n",
    "# *\n",
    "# ***\n",
    "# *****\n",
    "\n",
    "n = int(input(\"Enter number: \"))\n",
    "for i in range(0,(n*2)+1):\n",
    "    if i % 2 != 0:\n",
    "        print(\"x\" * (i))\n",
    "    i+=1"
   ]
  },
  {
   "cell_type": "code",
   "execution_count": null,
   "metadata": {},
   "outputs": [],
   "source": [
    "## DAY 28\n",
    "## Problem statement:\n",
    "# Given a sentence or cluster of words, find out if there are any integers inside the string. Print out the total number of integers. If there’s at least 1 integer present, find the sum of all of the integers found and print out the sum.\n",
    "# For example:\n",
    "# If string = “200 plus 500 is equal to”\n",
    "# 2 integers found\n",
    "# sum: 700\n",
    "\n",
    "\n",
    "inp = input(\"Enter sentence here: \")\n",
    "print(\"The entered string is: \", inp)\n",
    "word_list = inp.split(\" \")\n",
    "num_list = []\n",
    "for item in word_list:\n",
    "    if item.isdigit() == True:\n",
    "        num_list.append(item)\n",
    "num_list = [int(i) for i in num_list]\n",
    "sum_val = sum(num_list)\n",
    "print(\"The sum of the integers is: \", sum_val)"
   ]
  },
  {
   "cell_type": "code",
   "execution_count": null,
   "metadata": {},
   "outputs": [],
   "source": [
    "## DAY 29\n",
    "## Problem statement:\n",
    "# Create a function called sumOfTwo(a, b, v) with 3 parameters.\n",
    "# a is a list of numbers values, such as [22, 341, 21, 5, 0, -5].\n",
    "# b is also a list of number values, just like a.\n",
    "# a and b can be anything; negative, a float, etc.\n",
    "# v is a single number value.\n",
    "# The function should check if it is possible to take one number from both list a and b, and add the numbers together to equal the number v.\n",
    "# If there are 2 numbers that can do this, print “True”. Otherwise, print “False”.\n",
    "# For example:\n",
    "# sumOfTwo([1, 2, 3], [10, 20, 30], 23)\n",
    "# The output would be “True” because 2 + 20 = 23.\n",
    "\n",
    "\n",
    "\n",
    "def SumOfTwo(a,b,v):\n",
    "    n = 0\n",
    "    for ele in a:\n",
    "        for item in b:\n",
    "            if ele + item == v:\n",
    "                n += 1\n",
    "    if n > 0:\n",
    "        return \"True\"\n",
    "    return \"False\"\n",
    "\n",
    "SumOfTwo([1, 2, 3], [10, 20, 30], 23)"
   ]
  },
  {
   "cell_type": "code",
   "execution_count": null,
   "metadata": {},
   "outputs": [],
   "source": [
    "import numpy as np\n",
    "ls = [\"abc\",\"bca\",\"cbz\"]\n",
    "arr = np.array(ls)\n",
    "arr = np.where(arr == \"abc\",arr,\"S/D/O\")\n",
    "print(arr)\n",
    "ls1 = arr.tolist()\n",
    "print(ls1)"
   ]
  },
  {
   "cell_type": "code",
   "execution_count": null,
   "metadata": {},
   "outputs": [],
   "source": [
    "## DAY 30\n",
    "## PROBLEM STATEMENT:\n",
    "# With a given integral number n, write a program to generate a dictionary that contains (i, i*i) such that is an integral number between 1 and n (both included). and then the program should print the dictionary.\n",
    "# Suppose the following input is supplied to the program:8\n",
    "# Then, the output should be:{1: 1, 2: 4, 3: 9, 4: 16, 5: 25, 6: 36, 7: 49, 8: 64}\n",
    "\n",
    "def generateDict(num):\n",
    "    dictter = {}\n",
    "    for i in range(1, num):\n",
    "        dictter[i] = i * i\n",
    "    return dictter\n",
    "\n",
    "generateDict(8)"
   ]
  },
  {
   "cell_type": "code",
   "execution_count": 10,
   "metadata": {},
   "outputs": [
    {
     "data": {
      "text/plain": [
       "'fo'"
      ]
     },
     "execution_count": 10,
     "metadata": {},
     "output_type": "execute_result"
    }
   ],
   "source": [
    "s = 'foorloop'\n",
    "s[::5]\n",
    "s[::-1][::-5]"
   ]
  },
  {
   "cell_type": "code",
   "execution_count": 23,
   "metadata": {},
   "outputs": [
    {
     "data": {
      "text/plain": [
       "'123345'"
      ]
     },
     "execution_count": 23,
     "metadata": {},
     "output_type": "execute_result"
    }
   ],
   "source": [
    "s =  \"123345\"\n",
    "# if s[0] == \"'\":\n",
    "#     s = s[1:]\n",
    "s\n",
    "# newlist = [x for x in range(1,51) if x %3 == 0]"
   ]
  },
  {
   "cell_type": "code",
   "execution_count": 26,
   "metadata": {},
   "outputs": [
    {
     "data": {
      "text/plain": [
       "'123345'"
      ]
     },
     "execution_count": 26,
     "metadata": {},
     "output_type": "execute_result"
    }
   ],
   "source": [
    "s = s[1:] if \"'\" in s else s\n",
    "\n",
    "s"
   ]
  },
  {
   "cell_type": "code",
   "execution_count": 18,
   "metadata": {},
   "outputs": [
    {
     "data": {
      "text/plain": [
       "<function __main__.<lambda>(x)>"
      ]
     },
     "execution_count": 18,
     "metadata": {},
     "output_type": "execute_result"
    }
   ],
   "source": []
  },
  {
   "cell_type": "code",
   "execution_count": 8,
   "metadata": {},
   "outputs": [
    {
     "ename": "SyntaxError",
     "evalue": "invalid syntax (988932225.py, line 2)",
     "output_type": "error",
     "traceback": [
      "\u001b[1;36m  Input \u001b[1;32mIn [8]\u001b[1;36m\u001b[0m\n\u001b[1;33m    return f\"Hello, my name is,\" {person}\u001b[0m\n\u001b[1;37m                                 ^\u001b[0m\n\u001b[1;31mSyntaxError\u001b[0m\u001b[1;31m:\u001b[0m invalid syntax\n"
     ]
    }
   ],
   "source": [
    "# def greet(person):\n",
    "#     return f\"Hello, my name is,\" {person}\n",
    "\n",
    "# greet(\"David\")"
   ]
  }
 ],
 "metadata": {
  "kernelspec": {
   "display_name": "Python 3.10.6 64-bit",
   "language": "python",
   "name": "python3"
  },
  "language_info": {
   "codemirror_mode": {
    "name": "ipython",
    "version": 3
   },
   "file_extension": ".py",
   "mimetype": "text/x-python",
   "name": "python",
   "nbconvert_exporter": "python",
   "pygments_lexer": "ipython3",
   "version": "3.10.6"
  },
  "orig_nbformat": 4,
  "vscode": {
   "interpreter": {
    "hash": "49fd5712af1c3ece0edd15a96db780ec3225b5f1f993546e31e22d59c14f183a"
   }
  }
 },
 "nbformat": 4,
 "nbformat_minor": 2
}
