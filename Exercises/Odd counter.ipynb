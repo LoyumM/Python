{
 "cells": [
  {
   "cell_type": "code",
   "execution_count": 10,
   "metadata": {},
   "outputs": [
    {
     "name": "stdout",
     "output_type": "stream",
     "text": [
      "6.0 4.0 4.0\n",
      "4.0 5.0 5.0\n"
     ]
    },
    {
     "data": {
      "text/plain": [
       "2"
      ]
     },
     "execution_count": 10,
     "metadata": {},
     "output_type": "execute_result"
    }
   ],
   "source": [
    "def odd_counter(A, B, C):\n",
    "    count = 0\n",
    "    while True:\n",
    "        count += 1\n",
    "        A, B, C = (B+C)/2, (C+A)/2, (A+B)/2\n",
    "        print(A, B, C)\n",
    "        if A % 2 != 0 or B % 2 != 0 or C % 2 != 0:\n",
    "            break\n",
    "    return count\n",
    "    \n",
    "odd_counter(2,6,6) "
   ]
  }
 ],
 "metadata": {
  "kernelspec": {
   "display_name": "Python 3",
   "language": "python",
   "name": "python3"
  },
  "language_info": {
   "codemirror_mode": {
    "name": "ipython",
    "version": 3
   },
   "file_extension": ".py",
   "mimetype": "text/x-python",
   "name": "python",
   "nbconvert_exporter": "python",
   "pygments_lexer": "ipython3",
   "version": "3.11.4"
  }
 },
 "nbformat": 4,
 "nbformat_minor": 2
}
