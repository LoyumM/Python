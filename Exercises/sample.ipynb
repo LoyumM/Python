{
 "cells": [
  {
   "cell_type": "code",
   "execution_count": 15,
   "metadata": {},
   "outputs": [
    {
     "name": "stdout",
     "output_type": "stream",
     "text": [
      "The number in the range are: [-2, -1, 0, 1, 2, 3, 4, 5, 6, 7, 8, 9]\n"
     ]
    },
    {
     "data": {
      "text/plain": [
       "4"
      ]
     },
     "execution_count": 15,
     "metadata": {},
     "output_type": "execute_result"
    }
   ],
   "source": [
    "def least_pos_int(ls):\n",
    "    min_range = ls[0]\n",
    "    max_range = ls[0]\n",
    "    least_num = ls[0]\n",
    "    for i in ls:\n",
    "        if i < min_range:\n",
    "            min_range = i\n",
    "        if i > max_range:\n",
    "            max_range = i\n",
    "    all_num = [i for i in range(min_range, max_range+1)]\n",
    "    for num in all_num:\n",
    "        if num not in ls:\n",
    "            least_num = num\n",
    "            if least_num > 0:\n",
    "                break\n",
    "    return least_num\n",
    "\n",
    "least_pos_int([1,5,6,7,2,3,9,-2,0])"
   ]
  },
  {
   "cell_type": "code",
   "execution_count": null,
   "metadata": {},
   "outputs": [],
   "source": [
    "[1,5,6,7,2,3,9,-2,0]"
   ]
  }
 ],
 "metadata": {
  "kernelspec": {
   "display_name": "Python 3",
   "language": "python",
   "name": "python3"
  },
  "language_info": {
   "codemirror_mode": {
    "name": "ipython",
    "version": 3
   },
   "file_extension": ".py",
   "mimetype": "text/x-python",
   "name": "python",
   "nbconvert_exporter": "python",
   "pygments_lexer": "ipython3",
   "version": "3.11.4"
  },
  "orig_nbformat": 4
 },
 "nbformat": 4,
 "nbformat_minor": 2
}
