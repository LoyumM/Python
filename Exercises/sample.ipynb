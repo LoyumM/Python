{
 "cells": [
  {
   "cell_type": "code",
   "execution_count": 15,
   "metadata": {},
   "outputs": [
    {
     "name": "stdout",
     "output_type": "stream",
     "text": [
      "The number in the range are: [-2, -1, 0, 1, 2, 3, 4, 5, 6, 7, 8, 9]\n"
     ]
    },
    {
     "data": {
      "text/plain": [
       "4"
      ]
     },
     "execution_count": 15,
     "metadata": {},
     "output_type": "execute_result"
    }
   ],
   "source": [
    "def least_pos_int(ls):\n",
    "    min_range = ls[0]\n",
    "    max_range = ls[0]\n",
    "    least_num = ls[0]\n",
    "    for i in ls:\n",
    "        if i < min_range:\n",
    "            min_range = i\n",
    "        if i > max_range:\n",
    "            max_range = i\n",
    "    all_num = [i for i in range(min_range, max_range+1)]\n",
    "    for num in all_num:\n",
    "        if num not in ls:\n",
    "            least_num = num\n",
    "            if least_num > 0:\n",
    "                break\n",
    "    return least_num\n",
    "\n",
    "least_pos_int([1,5,6,7,2,3,9,-2,0])"
   ]
  },
  {
   "cell_type": "code",
   "execution_count": null,
   "metadata": {},
   "outputs": [],
   "source": [
    "[1,5,6,7,2,3,9,-2,0]"
   ]
  },
  {
   "cell_type": "code",
   "execution_count": 27,
   "metadata": {},
   "outputs": [
    {
     "data": {
      "text/html": [
       "<div>\n",
       "<style scoped>\n",
       "    .dataframe tbody tr th:only-of-type {\n",
       "        vertical-align: middle;\n",
       "    }\n",
       "\n",
       "    .dataframe tbody tr th {\n",
       "        vertical-align: top;\n",
       "    }\n",
       "\n",
       "    .dataframe thead th {\n",
       "        text-align: right;\n",
       "    }\n",
       "</style>\n",
       "<table border=\"1\" class=\"dataframe\">\n",
       "  <thead>\n",
       "    <tr style=\"text-align: right;\">\n",
       "      <th></th>\n",
       "      <th>Column1</th>\n",
       "      <th>Column2</th>\n",
       "      <th>Column3</th>\n",
       "      <th>Column4</th>\n",
       "      <th>Column5</th>\n",
       "    </tr>\n",
       "  </thead>\n",
       "  <tbody>\n",
       "    <tr>\n",
       "      <th>0</th>\n",
       "      <td>0.241718</td>\n",
       "      <td>13</td>\n",
       "      <td>-1.223812</td>\n",
       "      <td>B</td>\n",
       "      <td>0.891283</td>\n",
       "    </tr>\n",
       "    <tr>\n",
       "      <th>1</th>\n",
       "      <td>0.749973</td>\n",
       "      <td>16</td>\n",
       "      <td>-1.479543</td>\n",
       "      <td>B</td>\n",
       "      <td>0.018365</td>\n",
       "    </tr>\n",
       "    <tr>\n",
       "      <th>2</th>\n",
       "      <td>0.176120</td>\n",
       "      <td>1</td>\n",
       "      <td>-1.546182</td>\n",
       "      <td>B</td>\n",
       "      <td>0.609552</td>\n",
       "    </tr>\n",
       "    <tr>\n",
       "      <th>3</th>\n",
       "      <td>0.006701</td>\n",
       "      <td>2</td>\n",
       "      <td>0.021924</td>\n",
       "      <td>C</td>\n",
       "      <td>0.098255</td>\n",
       "    </tr>\n",
       "    <tr>\n",
       "      <th>4</th>\n",
       "      <td>0.927505</td>\n",
       "      <td>38</td>\n",
       "      <td>1.017974</td>\n",
       "      <td>A</td>\n",
       "      <td>0.396960</td>\n",
       "    </tr>\n",
       "    <tr>\n",
       "      <th>5</th>\n",
       "      <td>0.257499</td>\n",
       "      <td>67</td>\n",
       "      <td>1.177049</td>\n",
       "      <td>B</td>\n",
       "      <td>0.132491</td>\n",
       "    </tr>\n",
       "    <tr>\n",
       "      <th>6</th>\n",
       "      <td>0.016747</td>\n",
       "      <td>92</td>\n",
       "      <td>-0.361890</td>\n",
       "      <td>A</td>\n",
       "      <td>0.879078</td>\n",
       "    </tr>\n",
       "    <tr>\n",
       "      <th>7</th>\n",
       "      <td>0.049370</td>\n",
       "      <td>16</td>\n",
       "      <td>0.825167</td>\n",
       "      <td>A</td>\n",
       "      <td>0.277575</td>\n",
       "    </tr>\n",
       "    <tr>\n",
       "      <th>8</th>\n",
       "      <td>0.059622</td>\n",
       "      <td>87</td>\n",
       "      <td>-0.782228</td>\n",
       "      <td>C</td>\n",
       "      <td>0.587989</td>\n",
       "    </tr>\n",
       "    <tr>\n",
       "      <th>9</th>\n",
       "      <td>0.753148</td>\n",
       "      <td>83</td>\n",
       "      <td>-1.137130</td>\n",
       "      <td>C</td>\n",
       "      <td>0.024815</td>\n",
       "    </tr>\n",
       "  </tbody>\n",
       "</table>\n",
       "</div>"
      ],
      "text/plain": [
       "    Column1  Column2   Column3 Column4   Column5\n",
       "0  0.241718       13 -1.223812       B  0.891283\n",
       "1  0.749973       16 -1.479543       B  0.018365\n",
       "2  0.176120        1 -1.546182       B  0.609552\n",
       "3  0.006701        2  0.021924       C  0.098255\n",
       "4  0.927505       38  1.017974       A  0.396960\n",
       "5  0.257499       67  1.177049       B  0.132491\n",
       "6  0.016747       92 -0.361890       A  0.879078\n",
       "7  0.049370       16  0.825167       A  0.277575\n",
       "8  0.059622       87 -0.782228       C  0.587989\n",
       "9  0.753148       83 -1.137130       C  0.024815"
      ]
     },
     "execution_count": 27,
     "metadata": {},
     "output_type": "execute_result"
    }
   ],
   "source": [
    "import pandas as pd\n",
    "import numpy as np\n",
    "\n",
    "data = {\n",
    "    'Column1': np.random.rand(10),\n",
    "    'Column2': np.random.randint(1, 100, size=10),\n",
    "    'Column3': np.random.randn(10),\n",
    "    'Column4': np.random.choice(['A', 'B', 'C'], size=10),\n",
    "    'Column5': np.random.uniform(0, 1, size=10)\n",
    "}\n",
    "\n",
    "df = pd.DataFrame(data)\n",
    "\n",
    "df"
   ]
  },
  {
   "cell_type": "code",
   "execution_count": 30,
   "metadata": {},
   "outputs": [
    {
     "data": {
      "text/html": [
       "<div>\n",
       "<style scoped>\n",
       "    .dataframe tbody tr th:only-of-type {\n",
       "        vertical-align: middle;\n",
       "    }\n",
       "\n",
       "    .dataframe tbody tr th {\n",
       "        vertical-align: top;\n",
       "    }\n",
       "\n",
       "    .dataframe thead th {\n",
       "        text-align: right;\n",
       "    }\n",
       "</style>\n",
       "<table border=\"1\" class=\"dataframe\">\n",
       "  <thead>\n",
       "    <tr style=\"text-align: right;\">\n",
       "      <th></th>\n",
       "      <th>Column1</th>\n",
       "      <th>Column2</th>\n",
       "      <th>Column3</th>\n",
       "      <th>Column4</th>\n",
       "      <th>Column5</th>\n",
       "    </tr>\n",
       "  </thead>\n",
       "  <tbody>\n",
       "    <tr>\n",
       "      <th>0</th>\n",
       "      <td>0.241718</td>\n",
       "      <td>13</td>\n",
       "      <td>-1.223812</td>\n",
       "      <td>B</td>\n",
       "      <td>0.891283</td>\n",
       "    </tr>\n",
       "    <tr>\n",
       "      <th>1</th>\n",
       "      <td>0.014658</td>\n",
       "      <td>16</td>\n",
       "      <td>-1.479543</td>\n",
       "      <td>B</td>\n",
       "      <td>0.018365</td>\n",
       "    </tr>\n",
       "    <tr>\n",
       "      <th>2</th>\n",
       "      <td>0.176120</td>\n",
       "      <td>1</td>\n",
       "      <td>-1.546182</td>\n",
       "      <td>B</td>\n",
       "      <td>0.609552</td>\n",
       "    </tr>\n",
       "    <tr>\n",
       "      <th>3</th>\n",
       "      <td>0.006701</td>\n",
       "      <td>2</td>\n",
       "      <td>0.021924</td>\n",
       "      <td>C</td>\n",
       "      <td>0.098255</td>\n",
       "    </tr>\n",
       "    <tr>\n",
       "      <th>4</th>\n",
       "      <td>0.382635</td>\n",
       "      <td>38</td>\n",
       "      <td>1.017974</td>\n",
       "      <td>A</td>\n",
       "      <td>0.396960</td>\n",
       "    </tr>\n",
       "    <tr>\n",
       "      <th>5</th>\n",
       "      <td>0.257499</td>\n",
       "      <td>67</td>\n",
       "      <td>1.177049</td>\n",
       "      <td>B</td>\n",
       "      <td>0.132491</td>\n",
       "    </tr>\n",
       "    <tr>\n",
       "      <th>6</th>\n",
       "      <td>0.016747</td>\n",
       "      <td>92</td>\n",
       "      <td>-0.361890</td>\n",
       "      <td>A</td>\n",
       "      <td>0.879078</td>\n",
       "    </tr>\n",
       "    <tr>\n",
       "      <th>7</th>\n",
       "      <td>0.049370</td>\n",
       "      <td>16</td>\n",
       "      <td>0.825167</td>\n",
       "      <td>A</td>\n",
       "      <td>0.277575</td>\n",
       "    </tr>\n",
       "    <tr>\n",
       "      <th>8</th>\n",
       "      <td>0.059622</td>\n",
       "      <td>87</td>\n",
       "      <td>-0.782228</td>\n",
       "      <td>C</td>\n",
       "      <td>0.587989</td>\n",
       "    </tr>\n",
       "    <tr>\n",
       "      <th>9</th>\n",
       "      <td>0.211721</td>\n",
       "      <td>83</td>\n",
       "      <td>-1.137130</td>\n",
       "      <td>C</td>\n",
       "      <td>0.024815</td>\n",
       "    </tr>\n",
       "  </tbody>\n",
       "</table>\n",
       "</div>"
      ],
      "text/plain": [
       "    Column1  Column2   Column3 Column4   Column5\n",
       "0  0.241718       13 -1.223812       B  0.891283\n",
       "1  0.014658       16 -1.479543       B  0.018365\n",
       "2  0.176120        1 -1.546182       B  0.609552\n",
       "3  0.006701        2  0.021924       C  0.098255\n",
       "4  0.382635       38  1.017974       A  0.396960\n",
       "5  0.257499       67  1.177049       B  0.132491\n",
       "6  0.016747       92 -0.361890       A  0.879078\n",
       "7  0.049370       16  0.825167       A  0.277575\n",
       "8  0.059622       87 -0.782228       C  0.587989\n",
       "9  0.211721       83 -1.137130       C  0.024815"
      ]
     },
     "execution_count": 30,
     "metadata": {},
     "output_type": "execute_result"
    }
   ],
   "source": [
    "def generate_rand():\n",
    "    num = np.random.uniform(0, 0.5)\n",
    "    return num\n",
    "\n",
    "\n",
    "for idx, value in enumerate(df['Column1']):\n",
    "    if value > 0.5:\n",
    "        df.loc[idx,'Column1'] = generate_rand()\n",
    "        \n",
    "df"
   ]
  },
  {
   "cell_type": "code",
   "execution_count": 29,
   "metadata": {},
   "outputs": [
    {
     "data": {
      "text/plain": [
       "0.7499731093348563"
      ]
     },
     "execution_count": 29,
     "metadata": {},
     "output_type": "execute_result"
    }
   ],
   "source": [
    "normal = np.random.randn(1000)"
   ]
  },
  {
   "cell_type": "code",
   "execution_count": 47,
   "metadata": {},
   "outputs": [
    {
     "data": {
      "image/png": "[encoded data removed]",
      "text/plain": [
       "<Figure size 1200x1000 with 1 Axes>"
      ]
     },
     "metadata": {},
     "output_type": "display_data"
    }
   ],
   "source": [
    "import numpy as np\n",
    "import matplotlib.pyplot as plt\n",
    "\n",
    "# nums = np.random.randn(100000)\n",
    "# nums = np.random.random_sample(100000)\n",
    "# nums = np.random.binomial(10, 0.5, 100000)\n",
    "# nums = np.random.exponential(size=100000)\n",
    "nums = np.random.logistic(loc = 0.5,size = 100)\n",
    "\n",
    "plt.figure(figsize=(12, 10))\n",
    "\n",
    "plt.hist(nums, bins=30, edgecolor='black')\n",
    "plt.title('Histogram of Random Normal Data')\n",
    "plt.xlabel('Value')\n",
    "plt.ylabel('Frequency')\n",
    "plt.show()"
   ]
  },
  {
   "cell_type": "code",
   "execution_count": 3,
   "metadata": {},
   "outputs": [
    {
     "name": "stdout",
     "output_type": "stream",
     "text": [
      "[1, 1, 1, 1]\n",
      "[1, 1, 1, 1]\n",
      "[1, 1, 2, 1]\n",
      "[1, 1, 2, 6]\n",
      "[1, 1, 2, 6]\n",
      "[1, 1, 8, 6]\n",
      "[1, 12, 8, 6]\n",
      "[24, 12, 8, 6]\n",
      "[24, 12, 8, 6]\n"
     ]
    }
   ],
   "source": [
    "def productExceptSelf(nums:list):\n",
    "    res = [1] * (len(nums))\n",
    "    \n",
    "    prefix = 1\n",
    "    for i in range(len(nums)):\n",
    "        res[i] = prefix\n",
    "        prefix *= nums[i]\n",
    "        print(res)\n",
    "    postfix = 1\n",
    "    for i in range(len(nums) -1, -1, -1):\n",
    "        res[i] *= postfix\n",
    "        postfix *= nums[i]\n",
    "        print(res)\n",
    "    return res\n",
    "\n",
    "nums = [1,2,3,4]\n",
    "print(productExceptSelf(nums))"
   ]
  }
 ],
 "metadata": {
  "kernelspec": {
   "display_name": "Python 3",
   "language": "python",
   "name": "python3"
  },
  "language_info": {
   "codemirror_mode": {
    "name": "ipython",
    "version": 3
   },
   "file_extension": ".py",
   "mimetype": "text/x-python",
   "name": "python",
   "nbconvert_exporter": "python",
   "pygments_lexer": "ipython3",
   "version": "3.11.4"
  },
  "orig_nbformat": 4
 },
 "nbformat": 4,
 "nbformat_minor": 2
}
