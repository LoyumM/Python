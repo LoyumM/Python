{
 "cells": [
  {
   "cell_type": "code",
   "execution_count": 3,
   "metadata": {},
   "outputs": [],
   "source": [
    "import pandas as pd\n",
    "import numpy as np\n",
    "\n",
    "d = {\"name_1\":[\"abc\",\"abc\",\"abc\",\"abc\",\"abc\",\"abc\"],\n",
    "     \"address_1_1\":[\"avasdas\",\"avasdas\",\"avasdas\",\"avasdas\",\"avasdas\",\"avasdas\",],\n",
    "     \"mortgage_address\":[\"sdfsdfc\",\"sdfsdfc\",\"sdfsdfc\",\"sdfsdfc\",\"sdfsdfc\",\"sdfsdfc\",],\n",
    "     \"name_2\":[\"abc\",\"abc\",\"abc\",\"abc\",np.nan,\"abc\"],\n",
    "     \"address_2_1\":[\"avasdas\",\"avasdas\",\"avasdas\",\"avasdas\",np.nan,\"avasdas\",],\n",
    "     }\n",
    "\n",
    "df = pd.DataFrame(data=d)\n",
    "\n",
    "df['address_2_2'] = np.nan\n",
    "for i in range(len(df['name_2'])):\n",
    "    if df.loc[i,'name_2'] != np.nan:\n",
    "        df.loc[i, 'address_2_2'] = df.loc[i,'mortgage_address']\n",
    "df"
   ]
  },
  {
   "cell_type": "code",
   "execution_count": 6,
   "metadata": {},
   "outputs": [
    {
     "data": {
      "text/plain": [
       "0    sdfsdfc\n",
       "1    sdfsdfc\n",
       "2    sdfsdfc\n",
       "3    sdfsdfc\n",
       "5    sdfsdfc\n",
       "Name: mortgage_address, dtype: object"
      ]
     },
     "execution_count": 6,
     "metadata": {},
     "output_type": "execute_result"
    }
   ],
   "source": [
    "mask = df['name_2'].notna()\n",
    "df.loc[mask, 'mortgage_address']"
   ]
  },
  {
   "cell_type": "code",
   "execution_count": 7,
   "metadata": {},
   "outputs": [
    {
     "data": {
      "text/plain": [
       "0    sdfsdfc\n",
       "1    sdfsdfc\n",
       "2    sdfsdfc\n",
       "3    sdfsdfc\n",
       "4        NaN\n",
       "5    sdfsdfc\n",
       "Name: mortgage_address, dtype: object"
      ]
     },
     "execution_count": 7,
     "metadata": {},
     "output_type": "execute_result"
    }
   ],
   "source": [
    "df['mortgage_address'].where(df['name_2'].notna(), np.nan)"
   ]
  },
  {
   "cell_type": "code",
   "execution_count": 4,
   "metadata": {},
   "outputs": [
    {
     "data": {
      "text/html": [
       "<div>\n",
       "<style scoped>\n",
       "    .dataframe tbody tr th:only-of-type {\n",
       "        vertical-align: middle;\n",
       "    }\n",
       "\n",
       "    .dataframe tbody tr th {\n",
       "        vertical-align: top;\n",
       "    }\n",
       "\n",
       "    .dataframe thead th {\n",
       "        text-align: right;\n",
       "    }\n",
       "</style>\n",
       "<table border=\"1\" class=\"dataframe\">\n",
       "  <thead>\n",
       "    <tr style=\"text-align: right;\">\n",
       "      <th></th>\n",
       "      <th>name_1</th>\n",
       "      <th>address_1</th>\n",
       "      <th>mortgage_address</th>\n",
       "      <th>name_2</th>\n",
       "      <th>address_2</th>\n",
       "      <th>address_2_2</th>\n",
       "    </tr>\n",
       "  </thead>\n",
       "  <tbody>\n",
       "    <tr>\n",
       "      <th>0</th>\n",
       "      <td>abc</td>\n",
       "      <td>avasdas</td>\n",
       "      <td>sdfsdfc</td>\n",
       "      <td>abc</td>\n",
       "      <td>avasdas</td>\n",
       "      <td>sdfsdfc</td>\n",
       "    </tr>\n",
       "    <tr>\n",
       "      <th>1</th>\n",
       "      <td>abc</td>\n",
       "      <td>avasdas</td>\n",
       "      <td>sdfsdfc</td>\n",
       "      <td>abc</td>\n",
       "      <td>avasdas</td>\n",
       "      <td>sdfsdfc</td>\n",
       "    </tr>\n",
       "    <tr>\n",
       "      <th>2</th>\n",
       "      <td>abc</td>\n",
       "      <td>avasdas</td>\n",
       "      <td>sdfsdfc</td>\n",
       "      <td>abc</td>\n",
       "      <td>avasdas</td>\n",
       "      <td>sdfsdfc</td>\n",
       "    </tr>\n",
       "    <tr>\n",
       "      <th>3</th>\n",
       "      <td>abc</td>\n",
       "      <td>avasdas</td>\n",
       "      <td>sdfsdfc</td>\n",
       "      <td>abc</td>\n",
       "      <td>avasdas</td>\n",
       "      <td>sdfsdfc</td>\n",
       "    </tr>\n",
       "    <tr>\n",
       "      <th>4</th>\n",
       "      <td>abc</td>\n",
       "      <td>avasdas</td>\n",
       "      <td>sdfsdfc</td>\n",
       "      <td>NaN</td>\n",
       "      <td>NaN</td>\n",
       "      <td>sdfsdfc</td>\n",
       "    </tr>\n",
       "    <tr>\n",
       "      <th>5</th>\n",
       "      <td>abc</td>\n",
       "      <td>avasdas</td>\n",
       "      <td>sdfsdfc</td>\n",
       "      <td>abc</td>\n",
       "      <td>avasdas</td>\n",
       "      <td>sdfsdfc</td>\n",
       "    </tr>\n",
       "  </tbody>\n",
       "</table>\n",
       "</div>"
      ],
      "text/plain": [
       "  name_1 address_1 mortgage_address name_2 address_2 address_2_2\n",
       "0    abc   avasdas          sdfsdfc    abc   avasdas     sdfsdfc\n",
       "1    abc   avasdas          sdfsdfc    abc   avasdas     sdfsdfc\n",
       "2    abc   avasdas          sdfsdfc    abc   avasdas     sdfsdfc\n",
       "3    abc   avasdas          sdfsdfc    abc   avasdas     sdfsdfc\n",
       "4    abc   avasdas          sdfsdfc    NaN       NaN     sdfsdfc\n",
       "5    abc   avasdas          sdfsdfc    abc   avasdas     sdfsdfc"
      ]
     },
     "execution_count": 4,
     "metadata": {},
     "output_type": "execute_result"
    }
   ],
   "source": [
    "df['address_2_2'] = np.nan\n",
    "for i in range(len(df['name_2'])):\n",
    "    if df.loc[i,'name_2'] != np.nan:\n",
    "        df.loc[i, 'address_2_2'] = df.loc[i,'mortgage_address']\n",
    "df"
   ]
  }
 ],
 "metadata": {
  "kernelspec": {
   "display_name": "Python 3",
   "language": "python",
   "name": "python3"
  },
  "language_info": {
   "codemirror_mode": {
    "name": "ipython",
    "version": 3
   },
   "file_extension": ".py",
   "mimetype": "text/x-python",
   "name": "python",
   "nbconvert_exporter": "python",
   "pygments_lexer": "ipython3",
   "version": "3.11.4"
  }
 },
 "nbformat": 4,
 "nbformat_minor": 2
}
