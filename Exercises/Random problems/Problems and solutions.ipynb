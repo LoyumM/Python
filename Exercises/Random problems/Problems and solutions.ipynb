{
 "cells": [
  {
   "cell_type": "code",
   "execution_count": null,
   "metadata": {},
   "outputs": [],
   "source": [
    "# Have the function ArrayChallenge(arr) take the array of numbers stored in arr and from the position in the array where a 1 is, return the number of spaces either left or right you must move to reach an enemy which is represented by a 2. For example: if arr is [0, 0, 1, 0, 0, 2, 0, 2] then your program should return 3 because the closest enemy (2) is 3 spaces away from the 1. The array will contain any number of 0's and 2's, but only a single 1. It may not contain any 2's at all as well, where in that case your program should return a 0.\n",
    "\n",
    "# write a function in this format:\n",
    "\n",
    "# def ArrayChallenge(arr):\n",
    "\n",
    "#   # code goes here\n",
    "#   return arr\n",
    "\n",
    "# # keep this function call here \n",
    "# print(ArrayChallenge(input())\n",
    "# ChatGPT\n",
    "\n"
   ]
  },
  {
   "cell_type": "code",
   "execution_count": null,
   "metadata": {},
   "outputs": [],
   "source": [
    "# Write a function that takes in a list of integers and returns the second largest number.\n",
    "\n",
    "# Implement a function that takes in a string and returns the first non-repeated character.\n",
    "\n",
    "# Given a list of integers, write a function that returns the sum of all the even numbers in the list.\n",
    "\n",
    "# Write a function that takes in a list of integers and returns the maximum product of any three numbers in the list.\n",
    "\n",
    "# Implement a function that takes in a string and reverses the order of the words.\n",
    "\n",
    "# Given a list of integers, write a function that returns the maximum difference between any two numbers in the list.\n",
    "\n",
    "# Write a function that takes in two strings and returns True if they are anagrams, False otherwise.\n",
    "\n",
    "# Given a string of parentheses, write a function that determines if the parentheses are balanced."
   ]
  }
 ],
 "metadata": {
  "kernelspec": {
   "display_name": "Python 3",
   "language": "python",
   "name": "python3"
  },
  "language_info": {
   "name": "python",
   "version": "3.10.6"
  },
  "orig_nbformat": 4
 },
 "nbformat": 4,
 "nbformat_minor": 2
}
