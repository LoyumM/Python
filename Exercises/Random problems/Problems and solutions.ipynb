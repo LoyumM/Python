{
 "cells": [
  {
   "cell_type": "code",
   "execution_count": null,
   "metadata": {},
   "outputs": [],
   "source": [
    "# Have the function ArrayChallenge(arr) take the array of numbers stored in arr and from the position in the array where a 1 is, return the number of spaces either left or right you must move to reach an enemy which is represented by a 2. For example: if arr is [0, 0, 1, 0, 0, 2, 0, 2] then your program should return 3 because the closest enemy (2) is 3 spaces away from the 1. The array will contain any number of 0's and 2's, but only a single 1. It may not contain any 2's at all as well, where in that case your program should return a 0.\n",
    "\n",
    "# write a function in this format:\n",
    "\n",
    "# def ArrayChallenge(arr):\n",
    "\n",
    "#   # code goes here\n",
    "#   return arr\n",
    "\n",
    "# # keep this function call here \n",
    "# print(ArrayChallenge(input())"
   ]
  },
  {
   "cell_type": "code",
   "execution_count": null,
   "metadata": {},
   "outputs": [],
   "source": [
    "# Write a function that takes in a list of integers and returns the second largest number.\n",
    "\n",
    "# Implement a function that takes in a string and returns the first non-repeated character.\n",
    "\n",
    "# Given a list of integers, write a function that returns the sum of all the even numbers in the list.\n",
    "\n",
    "# Write a function that takes in a list of integers and returns the maximum product of any three numbers in the list.\n",
    "\n",
    "# Implement a function that takes in a string and reverses the order of the words.\n",
    "\n",
    "# Given a list of integers, write a function that returns the maximum difference between any two numbers in the list.\n",
    "\n",
    "# Write a function that takes in two strings and returns True if they are anagrams, False otherwise.\n",
    "\n",
    "# Given a string of parentheses, write a function that determines if the parentheses are balanced."
   ]
  },
  {
   "cell_type": "code",
   "execution_count": 6,
   "metadata": {},
   "outputs": [
    {
     "data": {
      "text/plain": [
       "35"
      ]
     },
     "execution_count": 6,
     "metadata": {},
     "output_type": "execute_result"
    }
   ],
   "source": [
    "def second_largest(lis: list):\n",
    "    for i in range(len(lis)):\n",
    "        for j in range(i+1,len(lis)):\n",
    "            if lis[i]>lis[j]:\n",
    "                lis[i],lis[j]=lis[j],lis[i]\n",
    "    return lis[-2]\n",
    "\n",
    "second_largest([41,2,12,6,35,8,10,1,19])"
   ]
  }
 ],
 "metadata": {
  "kernelspec": {
   "display_name": "Python 3",
   "language": "python",
   "name": "python3"
  },
  "language_info": {
   "codemirror_mode": {
    "name": "ipython",
    "version": 3
   },
   "file_extension": ".py",
   "mimetype": "text/x-python",
   "name": "python",
   "nbconvert_exporter": "python",
   "pygments_lexer": "ipython3",
   "version": "3.10.6"
  },
  "orig_nbformat": 4
 },
 "nbformat": 4,
 "nbformat_minor": 2
}
