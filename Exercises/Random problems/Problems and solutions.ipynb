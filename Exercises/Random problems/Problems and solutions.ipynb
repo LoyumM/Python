{
 "cells": [
  {
   "cell_type": "code",
   "execution_count": 15,
   "metadata": {},
   "outputs": [
    {
     "data": {
      "text/plain": [
       "'The nearest distance between 1 and 2 is 4'"
      ]
     },
     "execution_count": 15,
     "metadata": {},
     "output_type": "execute_result"
    }
   ],
   "source": [
    "# Have the function ArrayChallenge(arr) take the array of numbers stored in arr and from the position in the array where a 1 is, return the number of spaces either left or right you must move to reach an enemy which is represented by a 2. For example: if arr is [0, 0, 1, 0, 0, 2, 0, 2] then your program should return 3 because the closest enemy (2) is 3 spaces away from the 1. The array will contain any number of 0's and 2's, but only a single 1. It may not contain any 2's at all as well, where in that case your program should return a 0.\n",
    "\n",
    "# write a function in this format:\n",
    "\n",
    "# def ArrayChallenge(arr):\n",
    "\n",
    "#   # code goes here\n",
    "#   return arr\n",
    "\n",
    "# # keep this function call here \n",
    "# print(ArrayChallenge(input())\n",
    "\n",
    "# num = [0,2,0,0,0,0,1,0,0,0,2,0,0,2]\n",
    "\n",
    "# two_pos = []\n",
    "# one_pos = 0\n",
    "# for i in range(len(num)):\n",
    "#     if num[i] == 2:\n",
    "#         two_pos.append(i)\n",
    "#     elif num[i] == 1:\n",
    "#         one_pos = i\n",
    "        \n",
    "# nearest = float('inf')\n",
    "# for i in two_pos:\n",
    "#     if abs(i - one_pos) < nearest:\n",
    "#         nearest = abs(i - one_pos)\n",
    "        \n",
    "# print(f\"The nearest distance between 1 and 2 is {nearest}\")\n",
    "\n",
    "def nearest_position(num: list):\n",
    "    two_pos = []\n",
    "    one_pos = 0\n",
    "    for i in range(len(num)):\n",
    "        if num[i] == 2:\n",
    "            two_pos.append(i)\n",
    "        elif num[i] == 1:\n",
    "            one_pos = i\n",
    "            \n",
    "    nearest = float('inf')\n",
    "    for i in two_pos:\n",
    "        if abs(i - one_pos) < nearest:\n",
    "            nearest = abs(i - one_pos)\n",
    "    return f\"The nearest distance between 1 and 2 is {nearest}\"\n",
    "\n",
    "nearest_position([0,2,0,0,0,0,1,0,0,0,2,0,0,2])"
   ]
  },
  {
   "cell_type": "code",
   "execution_count": null,
   "metadata": {},
   "outputs": [],
   "source": [
    "# Write a function that takes in two strings and returns True if they are anagrams, False otherwise.\n",
    "\n",
    "# Given a string of parentheses, write a function that determines if the parentheses are balanced."
   ]
  },
  {
   "cell_type": "code",
   "execution_count": 9,
   "metadata": {},
   "outputs": [
    {
     "name": "stdout",
     "output_type": "stream",
     "text": [
      "35\n",
      "35\n"
     ]
    }
   ],
   "source": [
    "# Write a function that takes in a list of integers and returns the second largest number.\n",
    "def second_largest(lis: list):\n",
    "    for i in range(len(lis)):\n",
    "        for j in range(i+1,len(lis)):\n",
    "            if lis[i]>lis[j]:\n",
    "                lis[i],lis[j]=lis[j],lis[i]\n",
    "    return lis[-2]\n",
    "\n",
    "print(second_largest([41,2,12,6,35,8,10,1,19]))\n",
    "\n",
    "\n",
    "def second_largest(lis: list):\n",
    "    largest = second_largest = float('-inf')\n",
    "    for num in lis:\n",
    "        if num > largest:\n",
    "            second_largest = largest\n",
    "            largest = num\n",
    "        elif num > second_largest and num != largest:\n",
    "            second_largest = num\n",
    "    return second_largest\n",
    "\n",
    "print(second_largest([41,2,12,6,35,8,10,1,19]))"
   ]
  },
  {
   "cell_type": "code",
   "execution_count": 24,
   "metadata": {},
   "outputs": [
    {
     "data": {
      "text/plain": [
       "'e'"
      ]
     },
     "execution_count": 24,
     "metadata": {},
     "output_type": "execute_result"
    }
   ],
   "source": [
    "# Implement a function that takes in a string and returns the first non-repeated character.\n",
    "from collections import Counter\n",
    "\n",
    "def uniquecharacter(string: str): \n",
    "    count = Counter([*string])\n",
    "    for chr in string:\n",
    "        if count[chr] == 1:\n",
    "            return chr\n",
    "    return None\n",
    "uniquecharacter('aabbcccddddddefffhhiikk')"
   ]
  },
  {
   "cell_type": "code",
   "execution_count": 29,
   "metadata": {},
   "outputs": [
    {
     "name": "stdout",
     "output_type": "stream",
     "text": [
      "6\n"
     ]
    },
    {
     "data": {
      "text/plain": [
       "6"
      ]
     },
     "execution_count": 29,
     "metadata": {},
     "output_type": "execute_result"
    }
   ],
   "source": [
    "# Given a list of integers, write a function that returns the sum of all the even numbers in the list.\n",
    "\n",
    "l = [1,2,3]\n",
    "sum = 0\n",
    "for i in l:\n",
    "    sum += i\n",
    "print(sum)\n",
    "\n",
    "def calculate_sum(numbers: list):\n",
    "    total_sum = 0\n",
    "    [total_sum := total_sum + i for i in numbers]\n",
    "    return total_sum\n",
    "\n",
    "calculate_sum([1,2,3])\n"
   ]
  },
  {
   "cell_type": "code",
   "execution_count": 10,
   "metadata": {},
   "outputs": [
    {
     "name": "stdout",
     "output_type": "stream",
     "text": [
      "1\n",
      "2\n",
      "3\n",
      "4\n",
      "5\n",
      "6\n",
      "7\n",
      "8\n",
      "9\n",
      "1\n",
      "2\n",
      "3\n",
      "4\n",
      "5\n",
      "6\n",
      "7\n",
      "8\n",
      "9\n",
      "1\n",
      "2\n",
      "3\n",
      "4\n",
      "5\n",
      "6\n",
      "7\n",
      "8\n",
      "9\n",
      "1\n",
      "2\n",
      "3\n",
      "4\n",
      "5\n",
      "6\n",
      "7\n",
      "8\n",
      "9\n",
      "1\n",
      "2\n",
      "3\n",
      "4\n",
      "5\n",
      "6\n",
      "7\n",
      "8\n",
      "9\n",
      "1\n",
      "2\n",
      "3\n",
      "4\n",
      "5\n",
      "6\n",
      "7\n",
      "8\n",
      "9\n",
      "1\n",
      "2\n",
      "3\n",
      "4\n",
      "5\n",
      "6\n",
      "7\n",
      "8\n",
      "9\n",
      "1\n",
      "2\n",
      "3\n",
      "4\n",
      "5\n",
      "6\n",
      "7\n",
      "8\n",
      "9\n",
      "1\n",
      "2\n",
      "3\n",
      "4\n",
      "5\n",
      "6\n",
      "7\n",
      "8\n",
      "9\n"
     ]
    }
   ],
   "source": [
    "# Write a function that takes in a list of integers and returns the maximum product of any three numbers in the list.\n",
    "number = [1,2,3,4,5,6,7,8,9]\n",
    "for i in number:\n",
    "    for j in number:\n",
    "        print(j)"
   ]
  },
  {
   "cell_type": "code",
   "execution_count": 5,
   "metadata": {},
   "outputs": [
    {
     "data": {
      "text/plain": [
       "'modnar'"
      ]
     },
     "execution_count": 5,
     "metadata": {},
     "output_type": "execute_result"
    }
   ],
   "source": [
    "# Implement a function that takes in a string and reverses the order of the words.\n",
    "\n",
    "def reverse_string(string:str):\n",
    "    list_string = [*string] # equivalent of [chr for chr in string]\n",
    "    return \"\".join(list_string[::-1])\n",
    "\n",
    "reverse_string('random')"
   ]
  },
  {
   "cell_type": "code",
   "execution_count": null,
   "metadata": {},
   "outputs": [],
   "source": [
    "# Given a list of integers, write a function that returns the maximum difference between any two numbers in the list.\n"
   ]
  },
  {
   "cell_type": "code",
   "execution_count": null,
   "metadata": {},
   "outputs": [],
   "source": []
  }
 ],
 "metadata": {
  "kernelspec": {
   "display_name": "Python 3",
   "language": "python",
   "name": "python3"
  },
  "language_info": {
   "codemirror_mode": {
    "name": "ipython",
    "version": 3
   },
   "file_extension": ".py",
   "mimetype": "text/x-python",
   "name": "python",
   "nbconvert_exporter": "python",
   "pygments_lexer": "ipython3",
   "version": "3.10.6"
  },
  "orig_nbformat": 4
 },
 "nbformat": 4,
 "nbformat_minor": 2
}
