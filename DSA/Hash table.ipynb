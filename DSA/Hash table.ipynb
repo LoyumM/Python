{
 "cells": [
  {
   "cell_type": "code",
   "execution_count": 8,
   "metadata": {},
   "outputs": [
    {
     "data": {
      "text/plain": [
       "[['06-Mar', 310.0],\n",
       " ['07-Mar', 340.0],\n",
       " ['08-Mar', 380.0],\n",
       " ['09-Mar', 302.0],\n",
       " ['10-Mar', 297.0],\n",
       " ['11-Mar', 323.0]]"
      ]
     },
     "execution_count": 8,
     "metadata": {},
     "output_type": "execute_result"
    }
   ],
   "source": [
    "stock_prices = []\n",
    "with open('data.csv','r') as f:\n",
    "    for line in f:\n",
    "        tokens = line.split(\",\")\n",
    "        day = tokens[0]\n",
    "        price = float(tokens[1])\n",
    "        stock_prices.append([day, price])\n",
    "stock_prices"
   ]
  },
  {
   "cell_type": "code",
   "execution_count": 4,
   "metadata": {},
   "outputs": [
    {
     "name": "stdout",
     "output_type": "stream",
     "text": [
      "302.0\n"
     ]
    }
   ],
   "source": [
    "for element in stock_prices:\n",
    "    if element[0] == '09-Mar':\n",
    "        print(element[1])"
   ]
  },
  {
   "cell_type": "code",
   "execution_count": 7,
   "metadata": {},
   "outputs": [
    {
     "data": {
      "text/plain": [
       "{'06-Mar': 310.0,\n",
       " '07-Mar': 340.0,\n",
       " '08-Mar': 380.0,\n",
       " '09-Mar': 302.0,\n",
       " '10-Mar': 297.0,\n",
       " '11-Mar': 323.0}"
      ]
     },
     "execution_count": 7,
     "metadata": {},
     "output_type": "execute_result"
    }
   ],
   "source": [
    "stock_prices = {}\n",
    "with open('data.csv','r') as f:\n",
    "    for line in f:\n",
    "        tokens = line.split(\",\")\n",
    "        day = tokens[0]\n",
    "        price = float(tokens[1])\n",
    "        stock_prices[day] = price\n",
    "stock_prices"
   ]
  },
  {
   "cell_type": "code",
   "execution_count": 1,
   "metadata": {},
   "outputs": [],
   "source": [
    "def get_hash(key):\n",
    "    h = 0\n",
    "    for char in key:\n",
    "        h += ord(char)\n",
    "    return h % 100"
   ]
  },
  {
   "cell_type": "code",
   "execution_count": 2,
   "metadata": {},
   "outputs": [
    {
     "data": {
      "text/plain": [
       "9"
      ]
     },
     "execution_count": 2,
     "metadata": {},
     "output_type": "execute_result"
    }
   ],
   "source": [
    "get_hash('march 6')"
   ]
  },
  {
   "cell_type": "code",
   "execution_count": 3,
   "metadata": {},
   "outputs": [],
   "source": [
    "class HashTable:\n",
    "    def __init__(self):\n",
    "        self.MAX = 100\n",
    "        self.arr = [None for i in range(self.MAX)]\n",
    "        \n",
    "    def get_hash(self, key):\n",
    "        h = 0\n",
    "        for char in key:\n",
    "            h += ord(char)\n",
    "            return h % self.MAX\n",
    "        \n",
    "    def add(self, key, val):\n",
    "        h = self.get_hash(key)\n",
    "        self.arr[h] = val\n",
    "        \n",
    "    def get(self, key):\n",
    "        h = self.get_hash(key)\n",
    "        return self.arr[h]"
   ]
  },
  {
   "cell_type": "code",
   "execution_count": 8,
   "metadata": {},
   "outputs": [],
   "source": [
    "t = HashTable()\n",
    "t.add('march 6', 100)"
   ]
  },
  {
   "cell_type": "code",
   "execution_count": 9,
   "metadata": {},
   "outputs": [
    {
     "data": {
      "text/plain": [
       "100"
      ]
     },
     "execution_count": 9,
     "metadata": {},
     "output_type": "execute_result"
    }
   ],
   "source": [
    "t.get('march 6')"
   ]
  }
 ],
 "metadata": {
  "kernelspec": {
   "display_name": "Python 3",
   "language": "python",
   "name": "python3"
  },
  "language_info": {
   "codemirror_mode": {
    "name": "ipython",
    "version": 3
   },
   "file_extension": ".py",
   "mimetype": "text/x-python",
   "name": "python",
   "nbconvert_exporter": "python",
   "pygments_lexer": "ipython3",
   "version": "3.11.4"
  },
  "orig_nbformat": 4
 },
 "nbformat": 4,
 "nbformat_minor": 2
}
