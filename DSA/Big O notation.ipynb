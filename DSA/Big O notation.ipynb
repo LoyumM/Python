{
 "cells": [
  {
   "cell_type": "markdown",
   "metadata": {},
   "source": [
    "- 1. Keep the fastest growing component\n",
    "- 2. Drop constants"
   ]
  },
  {
   "cell_type": "code",
   "execution_count": 3,
   "metadata": {},
   "outputs": [
    {
     "name": "stdout",
     "output_type": "stream",
     "text": [
      "[4, 9, 25, 36, 64, 81, 100]\n"
     ]
    }
   ],
   "source": [
    "# O(n)\n",
    "\n",
    "def get_squared_number(numbers):\n",
    "    squared_numbers = []\n",
    "    for n in numbers:\n",
    "        squared_numbers.append(n*n)\n",
    "    return squared_numbers\n",
    "\n",
    "if __name__ == \"__main__\":\n",
    "    numbers = [2,3,5,6,8,9,10]\n",
    "    print(get_squared_number(numbers))"
   ]
  },
  {
   "cell_type": "code",
   "execution_count": 4,
   "metadata": {},
   "outputs": [
    {
     "data": {
      "text/plain": [
       "9.246753135767175"
      ]
     },
     "execution_count": 4,
     "metadata": {},
     "output_type": "execute_result"
    }
   ],
   "source": [
    "# O(1)\n",
    "\n",
    "def find_first_pe(prices, eps, index):\n",
    "    pe = prices[index]/eps[index]\n",
    "    return pe\n",
    "\n",
    "import random\n",
    "\n",
    "prices = [random.uniform(10, 100) for _ in range(10)]  \n",
    "eps = [random.uniform(1, 5) for _ in range(10)]  \n",
    "index = random.randint(0, min(len(prices), len(eps)) - 1)\n",
    "\n",
    "find_first_pe(prices, eps, index)"
   ]
  },
  {
   "cell_type": "code",
   "execution_count": 12,
   "metadata": {},
   "outputs": [
    {
     "name": "stdout",
     "output_type": "stream",
     "text": [
      "3 is a duplicate\n",
      "5 is a duplicate\n"
     ]
    }
   ],
   "source": [
    "# O(n^2)\n",
    "\n",
    "numbers = [1,2,3,4,5,6,7,5,3,8,9]\n",
    "\n",
    "#checking for duplicates\n",
    "for i in range(len(numbers)):\n",
    "    for j in range(i+1, len(numbers)):\n",
    "        if numbers[i] == numbers[j]:\n",
    "            print(numbers[i],\"is a duplicate\")\n",
    "            break"
   ]
  },
  {
   "cell_type": "code",
   "execution_count": 16,
   "metadata": {},
   "outputs": [
    {
     "name": "stdout",
     "output_type": "stream",
     "text": [
      "3\n",
      "5\n",
      "4\n",
      "7\n"
     ]
    }
   ],
   "source": [
    "numbers = [1,2,3,4,5,6,7,5,3,8,9]\n",
    "# n^2 iterations\n",
    "duplicate = None\n",
    "for i in range(len(numbers)):\n",
    "    for j in range(i+1, len(numbers)):\n",
    "        if numbers[i] == numbers[j]:\n",
    "            duplicate = numbers[i]\n",
    "            print(duplicate)\n",
    "            break\n",
    "\n",
    "# n iterations\n",
    "for i in range(len(numbers)):\n",
    "    if numbers[i] == duplicate:\n",
    "        print(i)"
   ]
  }
 ],
 "metadata": {
  "kernelspec": {
   "display_name": "Python 3",
   "language": "python",
   "name": "python3"
  },
  "language_info": {
   "codemirror_mode": {
    "name": "ipython",
    "version": 3
   },
   "file_extension": ".py",
   "mimetype": "text/x-python",
   "name": "python",
   "nbconvert_exporter": "python",
   "pygments_lexer": "ipython3",
   "version": "3.11.4"
  },
  "orig_nbformat": 4
 },
 "nbformat": 4,
 "nbformat_minor": 2
}
